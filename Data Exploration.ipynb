{
 "cells": [
  {
   "cell_type": "markdown",
   "id": "895b6ad5",
   "metadata": {},
   "source": [
    "# Personal Key Indicators of Heart Disease \n",
    "This Jupyter Notebook focus on cleaning and analyzing data from the 2020 annual CDC survey of 400k adults related to their health status. Data was obtained from kaggle at https://www.kaggle.com/datasets/kamilpytlak/personal-key-indicators-of-heart-disease\n",
    "\n",
    "The following steps were performed:\n",
    "1. Loading data and cleaning\n",
    "2. Splitting data into training/validation/test data\n",
    "3. Feature importance:<br>\n",
    "    3.1 Mutual information <br>\n",
    "    3.2 Correlation"
   ]
  },
  {
   "cell_type": "code",
   "execution_count": 1,
   "id": "15ecd1e8",
   "metadata": {},
   "outputs": [],
   "source": [
    "import numpy as np\n",
    "import pandas as pd\n",
    "import matplotlib.pyplot as plt\n",
    "import seaborn as sns\n",
    "\n",
    "from IPython.display import display\n",
    "from scipy import stats"
   ]
  },
  {
   "cell_type": "markdown",
   "id": "7e257f3f",
   "metadata": {},
   "source": [
    "# 1. Loading data and cleaning"
   ]
  },
  {
   "cell_type": "markdown",
   "id": "1d58e088",
   "metadata": {},
   "source": [
    "First data is loaded using `pandas` and stored into a `DataFrame`. Column names are normalized into lower case to ease the use. "
   ]
  },
  {
   "cell_type": "code",
   "execution_count": 2,
   "id": "1240a073",
   "metadata": {},
   "outputs": [],
   "source": [
    "df = pd.read_csv('../datasets/heart_disease/heart_2020_cleaned.csv')\n",
    "df.columns = df.columns.str.lower()"
   ]
  },
  {
   "cell_type": "markdown",
   "id": "30975e0f",
   "metadata": {},
   "source": [
    "We can inspect our data using the `dtypes` variable."
   ]
  },
  {
   "cell_type": "code",
   "execution_count": 3,
   "id": "eb0da949",
   "metadata": {},
   "outputs": [
    {
     "data": {
      "text/plain": [
       "heartdisease         object\n",
       "bmi                 float64\n",
       "smoking              object\n",
       "alcoholdrinking      object\n",
       "stroke               object\n",
       "physicalhealth      float64\n",
       "mentalhealth        float64\n",
       "diffwalking          object\n",
       "sex                  object\n",
       "agecategory          object\n",
       "race                 object\n",
       "diabetic             object\n",
       "physicalactivity     object\n",
       "genhealth            object\n",
       "sleeptime           float64\n",
       "asthma               object\n",
       "kidneydisease        object\n",
       "skincancer           object\n",
       "dtype: object"
      ]
     },
     "execution_count": 3,
     "metadata": {},
     "output_type": "execute_result"
    }
   ],
   "source": [
    "df.dtypes"
   ]
  },
  {
   "cell_type": "markdown",
   "id": "9a1542ac",
   "metadata": {},
   "source": [
    "Since we will be trying to **predict the risk of a heart disease**, our output will be the `heartdisease` column. A closer look at our data can be performed by using a histogram. Below it can be seen that our data distribution is not symmetrical, which means that instead of using precision as our metric for evaluation, we will be using the area under the curve `auc` as metric for evaluating our machine learning model."
   ]
  },
  {
   "cell_type": "code",
   "execution_count": 4,
   "id": "5a922619",
   "metadata": {},
   "outputs": [
    {
     "data": {
      "text/plain": [
       "No     0.914405\n",
       "Yes    0.085595\n",
       "Name: heartdisease, dtype: float64"
      ]
     },
     "execution_count": 4,
     "metadata": {},
     "output_type": "execute_result"
    }
   ],
   "source": [
    "df.heartdisease.value_counts(normalize=True)"
   ]
  },
  {
   "cell_type": "code",
   "execution_count": 5,
   "id": "00aa4bfc",
   "metadata": {},
   "outputs": [
    {
     "data": {
      "image/png": "[encoded data removed]",
      "text/plain": [
       "<Figure size 432x288 with 1 Axes>"
      ]
     },
     "metadata": {
      "needs_background": "light"
     },
     "output_type": "display_data"
    }
   ],
   "source": [
    "sns.histplot(df.heartdisease)\n",
    "plt.title('Heart Disease Histogram')\n",
    "plt.show()"
   ]
  },
  {
   "cell_type": "markdown",
   "id": "4525cba3",
   "metadata": {},
   "source": [
    "We can separete our features in two groups: `numerical` and `categorical`. This separation will allow us to understand two key concepts in our data:\n",
    "* Mutual information\n",
    "* Correlation\n",
    "\n",
    "We also remove from our features the `heartdisease` column."
   ]
  },
  {
   "cell_type": "code",
   "execution_count": 6,
   "id": "c2940589",
   "metadata": {},
   "outputs": [
    {
     "data": {
      "text/plain": [
       "['bmi', 'physicalhealth', 'mentalhealth', 'sleeptime']"
      ]
     },
     "execution_count": 6,
     "metadata": {},
     "output_type": "execute_result"
    }
   ],
   "source": [
    "numerical = list(df.dtypes[df.dtypes == 'float'].index.values)\n",
    "numerical"
   ]
  },
  {
   "cell_type": "code",
   "execution_count": 7,
   "id": "ecdc8392",
   "metadata": {},
   "outputs": [
    {
     "data": {
      "text/plain": [
       "['smoking',\n",
       " 'alcoholdrinking',\n",
       " 'stroke',\n",
       " 'diffwalking',\n",
       " 'sex',\n",
       " 'agecategory',\n",
       " 'race',\n",
       " 'diabetic',\n",
       " 'physicalactivity',\n",
       " 'genhealth',\n",
       " 'asthma',\n",
       " 'kidneydisease',\n",
       " 'skincancer']"
      ]
     },
     "execution_count": 7,
     "metadata": {},
     "output_type": "execute_result"
    }
   ],
   "source": [
    "categorical = list(df.dtypes[df.dtypes == 'object'].index.values)\n",
    "categorical.remove('heartdisease')\n",
    "categorical"
   ]
  },
  {
   "cell_type": "markdown",
   "id": "6ad8997e",
   "metadata": {},
   "source": [
    "In the case of `categorical` variables, it is desirable to normalize our data therefore we lower case our values."
   ]
  },
  {
   "cell_type": "code",
   "execution_count": 8,
   "id": "422a8f71",
   "metadata": {},
   "outputs": [],
   "source": [
    "for c in categorical:\n",
    "    df[c] = df[c].str.lower()"
   ]
  },
  {
   "cell_type": "code",
   "execution_count": 9,
   "id": "9a37215a",
   "metadata": {},
   "outputs": [],
   "source": [
    "df['heartdisease'] = df['heartdisease'].str.lower()"
   ]
  },
  {
   "cell_type": "markdown",
   "id": "86a11e8c",
   "metadata": {},
   "source": [
    "After all the preprocess we obtain the following `DataFrame`"
   ]
  },
  {
   "cell_type": "code",
   "execution_count": 10,
   "id": "41a3914c",
   "metadata": {},
   "outputs": [
    {
     "data": {
      "text/html": [
       "<div>\n",
       "<style scoped>\n",
       "    .dataframe tbody tr th:only-of-type {\n",
       "        vertical-align: middle;\n",
       "    }\n",
       "\n",
       "    .dataframe tbody tr th {\n",
       "        vertical-align: top;\n",
       "    }\n",
       "\n",
       "    .dataframe thead th {\n",
       "        text-align: right;\n",
       "    }\n",
       "</style>\n",
       "<table border=\"1\" class=\"dataframe\">\n",
       "  <thead>\n",
       "    <tr style=\"text-align: right;\">\n",
       "      <th></th>\n",
       "      <th>0</th>\n",
       "      <th>1</th>\n",
       "      <th>2</th>\n",
       "      <th>3</th>\n",
       "      <th>4</th>\n",
       "      <th>5</th>\n",
       "      <th>6</th>\n",
       "      <th>7</th>\n",
       "      <th>8</th>\n",
       "      <th>9</th>\n",
       "      <th>...</th>\n",
       "      <th>319785</th>\n",
       "      <th>319786</th>\n",
       "      <th>319787</th>\n",
       "      <th>319788</th>\n",
       "      <th>319789</th>\n",
       "      <th>319790</th>\n",
       "      <th>319791</th>\n",
       "      <th>319792</th>\n",
       "      <th>319793</th>\n",
       "      <th>319794</th>\n",
       "    </tr>\n",
       "  </thead>\n",
       "  <tbody>\n",
       "    <tr>\n",
       "      <th>heartdisease</th>\n",
       "      <td>no</td>\n",
       "      <td>no</td>\n",
       "      <td>no</td>\n",
       "      <td>no</td>\n",
       "      <td>no</td>\n",
       "      <td>yes</td>\n",
       "      <td>no</td>\n",
       "      <td>no</td>\n",
       "      <td>no</td>\n",
       "      <td>no</td>\n",
       "      <td>...</td>\n",
       "      <td>no</td>\n",
       "      <td>yes</td>\n",
       "      <td>no</td>\n",
       "      <td>no</td>\n",
       "      <td>no</td>\n",
       "      <td>yes</td>\n",
       "      <td>no</td>\n",
       "      <td>no</td>\n",
       "      <td>no</td>\n",
       "      <td>no</td>\n",
       "    </tr>\n",
       "    <tr>\n",
       "      <th>bmi</th>\n",
       "      <td>16.6</td>\n",
       "      <td>20.34</td>\n",
       "      <td>26.58</td>\n",
       "      <td>24.21</td>\n",
       "      <td>23.71</td>\n",
       "      <td>28.87</td>\n",
       "      <td>21.63</td>\n",
       "      <td>31.64</td>\n",
       "      <td>26.45</td>\n",
       "      <td>40.69</td>\n",
       "      <td>...</td>\n",
       "      <td>31.93</td>\n",
       "      <td>33.2</td>\n",
       "      <td>36.54</td>\n",
       "      <td>23.38</td>\n",
       "      <td>22.22</td>\n",
       "      <td>27.41</td>\n",
       "      <td>29.84</td>\n",
       "      <td>24.24</td>\n",
       "      <td>32.81</td>\n",
       "      <td>46.56</td>\n",
       "    </tr>\n",
       "    <tr>\n",
       "      <th>smoking</th>\n",
       "      <td>yes</td>\n",
       "      <td>no</td>\n",
       "      <td>yes</td>\n",
       "      <td>no</td>\n",
       "      <td>no</td>\n",
       "      <td>yes</td>\n",
       "      <td>no</td>\n",
       "      <td>yes</td>\n",
       "      <td>no</td>\n",
       "      <td>no</td>\n",
       "      <td>...</td>\n",
       "      <td>no</td>\n",
       "      <td>yes</td>\n",
       "      <td>no</td>\n",
       "      <td>no</td>\n",
       "      <td>no</td>\n",
       "      <td>yes</td>\n",
       "      <td>yes</td>\n",
       "      <td>no</td>\n",
       "      <td>no</td>\n",
       "      <td>no</td>\n",
       "    </tr>\n",
       "    <tr>\n",
       "      <th>alcoholdrinking</th>\n",
       "      <td>no</td>\n",
       "      <td>no</td>\n",
       "      <td>no</td>\n",
       "      <td>no</td>\n",
       "      <td>no</td>\n",
       "      <td>no</td>\n",
       "      <td>no</td>\n",
       "      <td>no</td>\n",
       "      <td>no</td>\n",
       "      <td>no</td>\n",
       "      <td>...</td>\n",
       "      <td>yes</td>\n",
       "      <td>no</td>\n",
       "      <td>no</td>\n",
       "      <td>no</td>\n",
       "      <td>no</td>\n",
       "      <td>no</td>\n",
       "      <td>no</td>\n",
       "      <td>no</td>\n",
       "      <td>no</td>\n",
       "      <td>no</td>\n",
       "    </tr>\n",
       "    <tr>\n",
       "      <th>stroke</th>\n",
       "      <td>no</td>\n",
       "      <td>yes</td>\n",
       "      <td>no</td>\n",
       "      <td>no</td>\n",
       "      <td>no</td>\n",
       "      <td>no</td>\n",
       "      <td>no</td>\n",
       "      <td>no</td>\n",
       "      <td>no</td>\n",
       "      <td>no</td>\n",
       "      <td>...</td>\n",
       "      <td>no</td>\n",
       "      <td>no</td>\n",
       "      <td>no</td>\n",
       "      <td>no</td>\n",
       "      <td>no</td>\n",
       "      <td>no</td>\n",
       "      <td>no</td>\n",
       "      <td>no</td>\n",
       "      <td>no</td>\n",
       "      <td>no</td>\n",
       "    </tr>\n",
       "    <tr>\n",
       "      <th>physicalhealth</th>\n",
       "      <td>3.0</td>\n",
       "      <td>0.0</td>\n",
       "      <td>20.0</td>\n",
       "      <td>0.0</td>\n",
       "      <td>28.0</td>\n",
       "      <td>6.0</td>\n",
       "      <td>15.0</td>\n",
       "      <td>5.0</td>\n",
       "      <td>0.0</td>\n",
       "      <td>0.0</td>\n",
       "      <td>...</td>\n",
       "      <td>0.0</td>\n",
       "      <td>0.0</td>\n",
       "      <td>7.0</td>\n",
       "      <td>0.0</td>\n",
       "      <td>0.0</td>\n",
       "      <td>7.0</td>\n",
       "      <td>0.0</td>\n",
       "      <td>0.0</td>\n",
       "      <td>0.0</td>\n",
       "      <td>0.0</td>\n",
       "    </tr>\n",
       "    <tr>\n",
       "      <th>mentalhealth</th>\n",
       "      <td>30.0</td>\n",
       "      <td>0.0</td>\n",
       "      <td>30.0</td>\n",
       "      <td>0.0</td>\n",
       "      <td>0.0</td>\n",
       "      <td>0.0</td>\n",
       "      <td>0.0</td>\n",
       "      <td>0.0</td>\n",
       "      <td>0.0</td>\n",
       "      <td>0.0</td>\n",
       "      <td>...</td>\n",
       "      <td>0.0</td>\n",
       "      <td>0.0</td>\n",
       "      <td>0.0</td>\n",
       "      <td>0.0</td>\n",
       "      <td>0.0</td>\n",
       "      <td>0.0</td>\n",
       "      <td>0.0</td>\n",
       "      <td>0.0</td>\n",
       "      <td>0.0</td>\n",
       "      <td>0.0</td>\n",
       "    </tr>\n",
       "    <tr>\n",
       "      <th>diffwalking</th>\n",
       "      <td>no</td>\n",
       "      <td>no</td>\n",
       "      <td>no</td>\n",
       "      <td>no</td>\n",
       "      <td>yes</td>\n",
       "      <td>yes</td>\n",
       "      <td>no</td>\n",
       "      <td>yes</td>\n",
       "      <td>no</td>\n",
       "      <td>yes</td>\n",
       "      <td>...</td>\n",
       "      <td>no</td>\n",
       "      <td>no</td>\n",
       "      <td>no</td>\n",
       "      <td>no</td>\n",
       "      <td>no</td>\n",
       "      <td>yes</td>\n",
       "      <td>no</td>\n",
       "      <td>no</td>\n",
       "      <td>no</td>\n",
       "      <td>no</td>\n",
       "    </tr>\n",
       "    <tr>\n",
       "      <th>sex</th>\n",
       "      <td>female</td>\n",
       "      <td>female</td>\n",
       "      <td>male</td>\n",
       "      <td>female</td>\n",
       "      <td>female</td>\n",
       "      <td>female</td>\n",
       "      <td>female</td>\n",
       "      <td>female</td>\n",
       "      <td>female</td>\n",
       "      <td>male</td>\n",
       "      <td>...</td>\n",
       "      <td>male</td>\n",
       "      <td>female</td>\n",
       "      <td>male</td>\n",
       "      <td>female</td>\n",
       "      <td>female</td>\n",
       "      <td>male</td>\n",
       "      <td>male</td>\n",
       "      <td>female</td>\n",
       "      <td>female</td>\n",
       "      <td>female</td>\n",
       "    </tr>\n",
       "    <tr>\n",
       "      <th>agecategory</th>\n",
       "      <td>55-59</td>\n",
       "      <td>80 or older</td>\n",
       "      <td>65-69</td>\n",
       "      <td>75-79</td>\n",
       "      <td>40-44</td>\n",
       "      <td>75-79</td>\n",
       "      <td>70-74</td>\n",
       "      <td>80 or older</td>\n",
       "      <td>80 or older</td>\n",
       "      <td>65-69</td>\n",
       "      <td>...</td>\n",
       "      <td>65-69</td>\n",
       "      <td>60-64</td>\n",
       "      <td>30-34</td>\n",
       "      <td>60-64</td>\n",
       "      <td>18-24</td>\n",
       "      <td>60-64</td>\n",
       "      <td>35-39</td>\n",
       "      <td>45-49</td>\n",
       "      <td>25-29</td>\n",
       "      <td>80 or older</td>\n",
       "    </tr>\n",
       "    <tr>\n",
       "      <th>race</th>\n",
       "      <td>white</td>\n",
       "      <td>white</td>\n",
       "      <td>white</td>\n",
       "      <td>white</td>\n",
       "      <td>white</td>\n",
       "      <td>black</td>\n",
       "      <td>white</td>\n",
       "      <td>white</td>\n",
       "      <td>white</td>\n",
       "      <td>white</td>\n",
       "      <td>...</td>\n",
       "      <td>hispanic</td>\n",
       "      <td>hispanic</td>\n",
       "      <td>hispanic</td>\n",
       "      <td>hispanic</td>\n",
       "      <td>hispanic</td>\n",
       "      <td>hispanic</td>\n",
       "      <td>hispanic</td>\n",
       "      <td>hispanic</td>\n",
       "      <td>hispanic</td>\n",
       "      <td>hispanic</td>\n",
       "    </tr>\n",
       "    <tr>\n",
       "      <th>diabetic</th>\n",
       "      <td>yes</td>\n",
       "      <td>no</td>\n",
       "      <td>yes</td>\n",
       "      <td>no</td>\n",
       "      <td>no</td>\n",
       "      <td>no</td>\n",
       "      <td>no</td>\n",
       "      <td>yes</td>\n",
       "      <td>no, borderline diabetes</td>\n",
       "      <td>no</td>\n",
       "      <td>...</td>\n",
       "      <td>no</td>\n",
       "      <td>yes</td>\n",
       "      <td>no</td>\n",
       "      <td>no</td>\n",
       "      <td>no</td>\n",
       "      <td>yes</td>\n",
       "      <td>no</td>\n",
       "      <td>no</td>\n",
       "      <td>no</td>\n",
       "      <td>no</td>\n",
       "    </tr>\n",
       "    <tr>\n",
       "      <th>physicalactivity</th>\n",
       "      <td>yes</td>\n",
       "      <td>yes</td>\n",
       "      <td>yes</td>\n",
       "      <td>no</td>\n",
       "      <td>yes</td>\n",
       "      <td>no</td>\n",
       "      <td>yes</td>\n",
       "      <td>no</td>\n",
       "      <td>no</td>\n",
       "      <td>yes</td>\n",
       "      <td>...</td>\n",
       "      <td>yes</td>\n",
       "      <td>yes</td>\n",
       "      <td>no</td>\n",
       "      <td>yes</td>\n",
       "      <td>yes</td>\n",
       "      <td>no</td>\n",
       "      <td>yes</td>\n",
       "      <td>yes</td>\n",
       "      <td>no</td>\n",
       "      <td>yes</td>\n",
       "    </tr>\n",
       "    <tr>\n",
       "      <th>genhealth</th>\n",
       "      <td>very good</td>\n",
       "      <td>very good</td>\n",
       "      <td>fair</td>\n",
       "      <td>good</td>\n",
       "      <td>very good</td>\n",
       "      <td>fair</td>\n",
       "      <td>fair</td>\n",
       "      <td>good</td>\n",
       "      <td>fair</td>\n",
       "      <td>good</td>\n",
       "      <td>...</td>\n",
       "      <td>good</td>\n",
       "      <td>very good</td>\n",
       "      <td>good</td>\n",
       "      <td>excellent</td>\n",
       "      <td>excellent</td>\n",
       "      <td>fair</td>\n",
       "      <td>very good</td>\n",
       "      <td>good</td>\n",
       "      <td>good</td>\n",
       "      <td>good</td>\n",
       "    </tr>\n",
       "    <tr>\n",
       "      <th>sleeptime</th>\n",
       "      <td>5.0</td>\n",
       "      <td>7.0</td>\n",
       "      <td>8.0</td>\n",
       "      <td>6.0</td>\n",
       "      <td>8.0</td>\n",
       "      <td>12.0</td>\n",
       "      <td>4.0</td>\n",
       "      <td>9.0</td>\n",
       "      <td>5.0</td>\n",
       "      <td>10.0</td>\n",
       "      <td>...</td>\n",
       "      <td>7.0</td>\n",
       "      <td>8.0</td>\n",
       "      <td>9.0</td>\n",
       "      <td>6.0</td>\n",
       "      <td>8.0</td>\n",
       "      <td>6.0</td>\n",
       "      <td>5.0</td>\n",
       "      <td>6.0</td>\n",
       "      <td>12.0</td>\n",
       "      <td>8.0</td>\n",
       "    </tr>\n",
       "    <tr>\n",
       "      <th>asthma</th>\n",
       "      <td>yes</td>\n",
       "      <td>no</td>\n",
       "      <td>yes</td>\n",
       "      <td>no</td>\n",
       "      <td>no</td>\n",
       "      <td>no</td>\n",
       "      <td>yes</td>\n",
       "      <td>yes</td>\n",
       "      <td>no</td>\n",
       "      <td>no</td>\n",
       "      <td>...</td>\n",
       "      <td>no</td>\n",
       "      <td>yes</td>\n",
       "      <td>no</td>\n",
       "      <td>no</td>\n",
       "      <td>no</td>\n",
       "      <td>yes</td>\n",
       "      <td>yes</td>\n",
       "      <td>no</td>\n",
       "      <td>no</td>\n",
       "      <td>no</td>\n",
       "    </tr>\n",
       "    <tr>\n",
       "      <th>kidneydisease</th>\n",
       "      <td>no</td>\n",
       "      <td>no</td>\n",
       "      <td>no</td>\n",
       "      <td>no</td>\n",
       "      <td>no</td>\n",
       "      <td>no</td>\n",
       "      <td>no</td>\n",
       "      <td>no</td>\n",
       "      <td>yes</td>\n",
       "      <td>no</td>\n",
       "      <td>...</td>\n",
       "      <td>no</td>\n",
       "      <td>no</td>\n",
       "      <td>no</td>\n",
       "      <td>no</td>\n",
       "      <td>no</td>\n",
       "      <td>no</td>\n",
       "      <td>no</td>\n",
       "      <td>no</td>\n",
       "      <td>no</td>\n",
       "      <td>no</td>\n",
       "    </tr>\n",
       "    <tr>\n",
       "      <th>skincancer</th>\n",
       "      <td>yes</td>\n",
       "      <td>no</td>\n",
       "      <td>no</td>\n",
       "      <td>yes</td>\n",
       "      <td>no</td>\n",
       "      <td>no</td>\n",
       "      <td>yes</td>\n",
       "      <td>no</td>\n",
       "      <td>no</td>\n",
       "      <td>no</td>\n",
       "      <td>...</td>\n",
       "      <td>no</td>\n",
       "      <td>no</td>\n",
       "      <td>no</td>\n",
       "      <td>no</td>\n",
       "      <td>no</td>\n",
       "      <td>no</td>\n",
       "      <td>no</td>\n",
       "      <td>no</td>\n",
       "      <td>no</td>\n",
       "      <td>no</td>\n",
       "    </tr>\n",
       "  </tbody>\n",
       "</table>\n",
       "<p>18 rows × 319795 columns</p>\n",
       "</div>"
      ],
      "text/plain": [
       "                     0            1      2       3          4       5       \\\n",
       "heartdisease             no           no     no      no         no     yes   \n",
       "bmi                    16.6        20.34  26.58   24.21      23.71   28.87   \n",
       "smoking                 yes           no    yes      no         no     yes   \n",
       "alcoholdrinking          no           no     no      no         no      no   \n",
       "stroke                   no          yes     no      no         no      no   \n",
       "physicalhealth          3.0          0.0   20.0     0.0       28.0     6.0   \n",
       "mentalhealth           30.0          0.0   30.0     0.0        0.0     0.0   \n",
       "diffwalking              no           no     no      no        yes     yes   \n",
       "sex                  female       female   male  female     female  female   \n",
       "agecategory           55-59  80 or older  65-69   75-79      40-44   75-79   \n",
       "race                  white        white  white   white      white   black   \n",
       "diabetic                yes           no    yes      no         no      no   \n",
       "physicalactivity        yes          yes    yes      no        yes      no   \n",
       "genhealth         very good    very good   fair    good  very good    fair   \n",
       "sleeptime               5.0          7.0    8.0     6.0        8.0    12.0   \n",
       "asthma                  yes           no    yes      no         no      no   \n",
       "kidneydisease            no           no     no      no         no      no   \n",
       "skincancer              yes           no     no     yes         no      no   \n",
       "\n",
       "                  6            7                        8      9       ...  \\\n",
       "heartdisease          no           no                       no     no  ...   \n",
       "bmi                21.63        31.64                    26.45  40.69  ...   \n",
       "smoking               no          yes                       no     no  ...   \n",
       "alcoholdrinking       no           no                       no     no  ...   \n",
       "stroke                no           no                       no     no  ...   \n",
       "physicalhealth      15.0          5.0                      0.0    0.0  ...   \n",
       "mentalhealth         0.0          0.0                      0.0    0.0  ...   \n",
       "diffwalking           no          yes                       no    yes  ...   \n",
       "sex               female       female                   female   male  ...   \n",
       "agecategory        70-74  80 or older              80 or older  65-69  ...   \n",
       "race               white        white                    white  white  ...   \n",
       "diabetic              no          yes  no, borderline diabetes     no  ...   \n",
       "physicalactivity     yes           no                       no    yes  ...   \n",
       "genhealth           fair         good                     fair   good  ...   \n",
       "sleeptime            4.0          9.0                      5.0   10.0  ...   \n",
       "asthma               yes          yes                       no     no  ...   \n",
       "kidneydisease         no           no                      yes     no  ...   \n",
       "skincancer           yes           no                       no     no  ...   \n",
       "\n",
       "                    319785     319786    319787     319788     319789  \\\n",
       "heartdisease            no        yes        no         no         no   \n",
       "bmi                  31.93       33.2     36.54      23.38      22.22   \n",
       "smoking                 no        yes        no         no         no   \n",
       "alcoholdrinking        yes         no        no         no         no   \n",
       "stroke                  no         no        no         no         no   \n",
       "physicalhealth         0.0        0.0       7.0        0.0        0.0   \n",
       "mentalhealth           0.0        0.0       0.0        0.0        0.0   \n",
       "diffwalking             no         no        no         no         no   \n",
       "sex                   male     female      male     female     female   \n",
       "agecategory          65-69      60-64     30-34      60-64      18-24   \n",
       "race              hispanic   hispanic  hispanic   hispanic   hispanic   \n",
       "diabetic                no        yes        no         no         no   \n",
       "physicalactivity       yes        yes        no        yes        yes   \n",
       "genhealth             good  very good      good  excellent  excellent   \n",
       "sleeptime              7.0        8.0       9.0        6.0        8.0   \n",
       "asthma                  no        yes        no         no         no   \n",
       "kidneydisease           no         no        no         no         no   \n",
       "skincancer              no         no        no         no         no   \n",
       "\n",
       "                    319790     319791    319792    319793       319794  \n",
       "heartdisease           yes         no        no        no           no  \n",
       "bmi                  27.41      29.84     24.24     32.81        46.56  \n",
       "smoking                yes        yes        no        no           no  \n",
       "alcoholdrinking         no         no        no        no           no  \n",
       "stroke                  no         no        no        no           no  \n",
       "physicalhealth         7.0        0.0       0.0       0.0          0.0  \n",
       "mentalhealth           0.0        0.0       0.0       0.0          0.0  \n",
       "diffwalking            yes         no        no        no           no  \n",
       "sex                   male       male    female    female       female  \n",
       "agecategory          60-64      35-39     45-49     25-29  80 or older  \n",
       "race              hispanic   hispanic  hispanic  hispanic     hispanic  \n",
       "diabetic               yes         no        no        no           no  \n",
       "physicalactivity        no        yes       yes        no          yes  \n",
       "genhealth             fair  very good      good      good         good  \n",
       "sleeptime              6.0        5.0       6.0      12.0          8.0  \n",
       "asthma                 yes        yes        no        no           no  \n",
       "kidneydisease           no         no        no        no           no  \n",
       "skincancer              no         no        no        no           no  \n",
       "\n",
       "[18 rows x 319795 columns]"
      ]
     },
     "execution_count": 10,
     "metadata": {},
     "output_type": "execute_result"
    }
   ],
   "source": [
    "df.T"
   ]
  },
  {
   "cell_type": "markdown",
   "id": "5a75213b",
   "metadata": {},
   "source": [
    "# 2. Splitting data into training/validation/test data\n",
    "For our machine learning model we will use a 80-20-20 splitting of training-validation-test data."
   ]
  },
  {
   "cell_type": "code",
   "execution_count": 11,
   "id": "f6605bb4",
   "metadata": {},
   "outputs": [],
   "source": [
    "from sklearn.model_selection import train_test_split"
   ]
  },
  {
   "cell_type": "code",
   "execution_count": 12,
   "id": "5087a5ec",
   "metadata": {},
   "outputs": [],
   "source": [
    "df_full_train, df_test = train_test_split(df, test_size=0.20, random_state=1)\n",
    "df_train, df_val = train_test_split(df_full_train, test_size=0.25, random_state=1)"
   ]
  },
  {
   "cell_type": "code",
   "execution_count": 13,
   "id": "d389bf39",
   "metadata": {},
   "outputs": [],
   "source": [
    "#y_full_train = (df_full_train['heartdisease']=='yes').astype('int').values\n",
    "\n",
    "y_train = (df_train['heartdisease']=='yes').astype('int').values\n",
    "y_val = (df_val['heartdisease']=='yes').astype('int').values\n",
    "y_test = (df_test['heartdisease']=='yes').astype('int').values"
   ]
  },
  {
   "cell_type": "code",
   "execution_count": 14,
   "id": "6b2265f8",
   "metadata": {},
   "outputs": [],
   "source": [
    "#df_full_train = df_full_train.drop(columns='heartdisease')\n",
    "df_train = df_train.drop(columns='heartdisease')\n",
    "df_val = df_val.drop(columns='heartdisease')\n",
    "df_test = df_test.drop(columns='heartdisease')"
   ]
  },
  {
   "cell_type": "code",
   "execution_count": 15,
   "id": "5778516d",
   "metadata": {},
   "outputs": [],
   "source": [
    "df_full_train = df_full_train.reset_index(drop=True)\n",
    "df_train = df_train.reset_index(drop=True)\n",
    "df_val = df_val.reset_index(drop=True)\n",
    "df_test = df_test.reset_index(drop=True)"
   ]
  },
  {
   "cell_type": "markdown",
   "id": "49b16c26",
   "metadata": {},
   "source": [
    "# 3. Feature importance\n",
    "In this part we will explore the relationship between our `numerical` and `categorical` predictors against our output. This analysis will provide us with valuable information of what might trigger a heart disease."
   ]
  },
  {
   "cell_type": "markdown",
   "id": "0810acfe",
   "metadata": {},
   "source": [
    "## 3.1 Mutual information\n",
    "Is used for categorical variables and quantifies the \"amount of information\" (in units such as shannons (bits), nats or hartleys) obtained about one random variable by observing the other random variable. The mutual information determines how different the joint distribution of the pair $ {\\displaystyle (X,Y)}$ is from the product of the marginal distributions of ${\\displaystyle X}$ and ${\\displaystyle Y}$."
   ]
  },
  {
   "cell_type": "code",
   "execution_count": 16,
   "id": "46766d31",
   "metadata": {},
   "outputs": [],
   "source": [
    "from sklearn.metrics import mutual_info_score"
   ]
  },
  {
   "cell_type": "code",
   "execution_count": 17,
   "id": "506b1f09",
   "metadata": {},
   "outputs": [
    {
     "data": {
      "text/plain": [
       "0         0\n",
       "1         0\n",
       "2         0\n",
       "3         0\n",
       "4         1\n",
       "         ..\n",
       "255831    0\n",
       "255832    0\n",
       "255833    0\n",
       "255834    0\n",
       "255835    0\n",
       "Name: heartdisease, Length: 255836, dtype: int64"
      ]
     },
     "execution_count": 17,
     "metadata": {},
     "output_type": "execute_result"
    }
   ],
   "source": [
    "(df_full_train['heartdisease']=='yes').astype('int')"
   ]
  },
  {
   "cell_type": "code",
   "execution_count": 18,
   "id": "0bd2b967",
   "metadata": {},
   "outputs": [],
   "source": [
    "score_mutual_info = []\n",
    "\n",
    "for c in categorical:\n",
    "    score_mutual_info.append((c,mutual_info_score(df_full_train['heartdisease'], df_full_train[c])))"
   ]
  },
  {
   "cell_type": "code",
   "execution_count": 19,
   "id": "847d115a",
   "metadata": {},
   "outputs": [],
   "source": [
    "df_mutual_info = pd.DataFrame(score_mutual_info, columns=['variable', 'mutual_info'])"
   ]
  },
  {
   "cell_type": "code",
   "execution_count": 20,
   "id": "9c426d24",
   "metadata": {},
   "outputs": [
    {
     "data": {
      "text/html": [
       "<div>\n",
       "<style scoped>\n",
       "    .dataframe tbody tr th:only-of-type {\n",
       "        vertical-align: middle;\n",
       "    }\n",
       "\n",
       "    .dataframe tbody tr th {\n",
       "        vertical-align: top;\n",
       "    }\n",
       "\n",
       "    .dataframe thead th {\n",
       "        text-align: right;\n",
       "    }\n",
       "</style>\n",
       "<table border=\"1\" class=\"dataframe\">\n",
       "  <thead>\n",
       "    <tr style=\"text-align: right;\">\n",
       "      <th></th>\n",
       "      <th>variable</th>\n",
       "      <th>mutual_info</th>\n",
       "    </tr>\n",
       "  </thead>\n",
       "  <tbody>\n",
       "    <tr>\n",
       "      <th>5</th>\n",
       "      <td>agecategory</td>\n",
       "      <td>0.032074</td>\n",
       "    </tr>\n",
       "    <tr>\n",
       "      <th>9</th>\n",
       "      <td>genhealth</td>\n",
       "      <td>0.027688</td>\n",
       "    </tr>\n",
       "    <tr>\n",
       "      <th>3</th>\n",
       "      <td>diffwalking</td>\n",
       "      <td>0.015598</td>\n",
       "    </tr>\n",
       "    <tr>\n",
       "      <th>7</th>\n",
       "      <td>diabetic</td>\n",
       "      <td>0.013268</td>\n",
       "    </tr>\n",
       "    <tr>\n",
       "      <th>2</th>\n",
       "      <td>stroke</td>\n",
       "      <td>0.012182</td>\n",
       "    </tr>\n",
       "    <tr>\n",
       "      <th>11</th>\n",
       "      <td>kidneydisease</td>\n",
       "      <td>0.006800</td>\n",
       "    </tr>\n",
       "    <tr>\n",
       "      <th>0</th>\n",
       "      <td>smoking</td>\n",
       "      <td>0.005635</td>\n",
       "    </tr>\n",
       "    <tr>\n",
       "      <th>8</th>\n",
       "      <td>physicalactivity</td>\n",
       "      <td>0.004469</td>\n",
       "    </tr>\n",
       "    <tr>\n",
       "      <th>12</th>\n",
       "      <td>skincancer</td>\n",
       "      <td>0.003628</td>\n",
       "    </tr>\n",
       "    <tr>\n",
       "      <th>4</th>\n",
       "      <td>sex</td>\n",
       "      <td>0.002500</td>\n",
       "    </tr>\n",
       "    <tr>\n",
       "      <th>6</th>\n",
       "      <td>race</td>\n",
       "      <td>0.001544</td>\n",
       "    </tr>\n",
       "    <tr>\n",
       "      <th>10</th>\n",
       "      <td>asthma</td>\n",
       "      <td>0.000829</td>\n",
       "    </tr>\n",
       "    <tr>\n",
       "      <th>1</th>\n",
       "      <td>alcoholdrinking</td>\n",
       "      <td>0.000578</td>\n",
       "    </tr>\n",
       "  </tbody>\n",
       "</table>\n",
       "</div>"
      ],
      "text/plain": [
       "            variable  mutual_info\n",
       "5        agecategory     0.032074\n",
       "9          genhealth     0.027688\n",
       "3        diffwalking     0.015598\n",
       "7           diabetic     0.013268\n",
       "2             stroke     0.012182\n",
       "11     kidneydisease     0.006800\n",
       "0            smoking     0.005635\n",
       "8   physicalactivity     0.004469\n",
       "12        skincancer     0.003628\n",
       "4                sex     0.002500\n",
       "6               race     0.001544\n",
       "10            asthma     0.000829\n",
       "1    alcoholdrinking     0.000578"
      ]
     },
     "execution_count": 20,
     "metadata": {},
     "output_type": "execute_result"
    }
   ],
   "source": [
    "df_mutual_info.sort_values(by='mutual_info', ascending=False)"
   ]
  },
  {
   "cell_type": "markdown",
   "id": "f3a562e1",
   "metadata": {},
   "source": [
    "The mutual information gives us some insights of the key parameters that might trigger a heart disease. As it can be seen, age, general health, difficulties in walking, diabetes and having a stroke are some of the trigger signals when looking for heart diseases."
   ]
  },
  {
   "cell_type": "markdown",
   "id": "281c1293",
   "metadata": {},
   "source": [
    "## 3.2 Correlation\n",
    "Used for numerical variables to measure the degree to which a pair of variables are linearly related."
   ]
  },
  {
   "cell_type": "code",
   "execution_count": 21,
   "id": "4fe99a51",
   "metadata": {},
   "outputs": [],
   "source": [
    "df_target =pd.DataFrame((df_full_train['heartdisease']=='yes').astype('int'))"
   ]
  },
  {
   "cell_type": "code",
   "execution_count": 22,
   "id": "67247941",
   "metadata": {},
   "outputs": [],
   "source": [
    "df_correlation =  pd.DataFrame(df_full_train[numerical].corrwith(df_target['heartdisease']))"
   ]
  },
  {
   "cell_type": "code",
   "execution_count": 23,
   "id": "28220346",
   "metadata": {},
   "outputs": [
    {
     "data": {
      "text/html": [
       "<div>\n",
       "<style scoped>\n",
       "    .dataframe tbody tr th:only-of-type {\n",
       "        vertical-align: middle;\n",
       "    }\n",
       "\n",
       "    .dataframe tbody tr th {\n",
       "        vertical-align: top;\n",
       "    }\n",
       "\n",
       "    .dataframe thead th {\n",
       "        text-align: right;\n",
       "    }\n",
       "</style>\n",
       "<table border=\"1\" class=\"dataframe\">\n",
       "  <thead>\n",
       "    <tr style=\"text-align: right;\">\n",
       "      <th></th>\n",
       "      <th>variable</th>\n",
       "      <th>correlation</th>\n",
       "    </tr>\n",
       "  </thead>\n",
       "  <tbody>\n",
       "    <tr>\n",
       "      <th>1</th>\n",
       "      <td>physicalhealth</td>\n",
       "      <td>0.169790</td>\n",
       "    </tr>\n",
       "    <tr>\n",
       "      <th>0</th>\n",
       "      <td>bmi</td>\n",
       "      <td>0.052349</td>\n",
       "    </tr>\n",
       "    <tr>\n",
       "      <th>2</th>\n",
       "      <td>mentalhealth</td>\n",
       "      <td>0.028456</td>\n",
       "    </tr>\n",
       "    <tr>\n",
       "      <th>3</th>\n",
       "      <td>sleeptime</td>\n",
       "      <td>0.007855</td>\n",
       "    </tr>\n",
       "  </tbody>\n",
       "</table>\n",
       "</div>"
      ],
      "text/plain": [
       "         variable  correlation\n",
       "1  physicalhealth     0.169790\n",
       "0             bmi     0.052349\n",
       "2    mentalhealth     0.028456\n",
       "3       sleeptime     0.007855"
      ]
     },
     "execution_count": 23,
     "metadata": {},
     "output_type": "execute_result"
    }
   ],
   "source": [
    "df_correlation.reset_index(inplace=True)\n",
    "df_correlation.columns = ['variable','correlation']\n",
    "df_correlation.sort_values(by='correlation', ascending=False)"
   ]
  },
  {
   "cell_type": "markdown",
   "id": "8072105c",
   "metadata": {},
   "source": [
    "From the correlation we see that the pysical health is an important factor when determining the risk of a heart disease. Special care must be taken when an illness last for a long period of time, since that might be an indicator of a possible heart disease. (Be also careful that the data does not specify an specific type of ilness.)"
   ]
  },
  {
   "cell_type": "markdown",
   "id": "63d4c1cf",
   "metadata": {},
   "source": [
    "# 4. Data Exploration\n",
    "Now I will analize data in more detail to understand how the categorical and numerical features contribute to our problem. From part 3, we found the key numerical and categorical features, in this part I will use those features in our data exploration."
   ]
  },
  {
   "cell_type": "markdown",
   "id": "4ce19b53",
   "metadata": {},
   "source": [
    "## 4.1 Categorical features\n",
    "For the categorical features we found the 6 most important ones using the mutual information score."
   ]
  },
  {
   "cell_type": "code",
   "execution_count": 24,
   "id": "1fc1ae72",
   "metadata": {},
   "outputs": [],
   "source": [
    "top_categorical = ['agecategory', 'genhealth', 'diffwalking', 'diabetic', 'stroke', 'kidneydisease']"
   ]
  },
  {
   "cell_type": "markdown",
   "id": "2119eb4a",
   "metadata": {},
   "source": [
    "Now we plot each feature and count the number of events with and without a heartdisease. From the plots we can see that the cases of heart diseases increases as the age category increases. A similar situation might occur when analyzing the general health feature. To habe a better understanding a new plot is created after this one. "
   ]
  },
  {
   "cell_type": "code",
   "execution_count": 25,
   "id": "b6b84aa2",
   "metadata": {},
   "outputs": [
    {
     "name": "stderr",
     "output_type": "stream",
     "text": [
      "/tmp/ipykernel_16635/1199862752.py:7: UserWarning: FixedFormatter should only be used together with FixedLocator\n",
      "  ax.set_xticklabels(labels=['18-24', '25-29', '30-34', '35-39', '40-44', '45-49',\n"
     ]
    },
    {
     "data": {
      "image/png": "[encoded data removed]",
      "text/plain": [
       "<Figure size 1440x1440 with 6 Axes>"
      ]
     },
     "metadata": {
      "needs_background": "light"
     },
     "output_type": "display_data"
    }
   ],
   "source": [
    "plt.rcParams[\"figure.figsize\"] = (20,20)\n",
    "fig, axes = plt.subplots(3, 2)\n",
    "plt.subplots_adjust(hspace=0.5)\n",
    "\n",
    "ax = sns.histplot(data=df_full_train.sort_values(by=top_categorical[0]), x=top_categorical[0], hue='heartdisease', \n",
    "                  multiple='stack', stat='count', ax=axes[0,0])\n",
    "ax.set_xticklabels(labels=['18-24', '25-29', '30-34', '35-39', '40-44', '45-49',\n",
    "                           '50-54', '55-59', '60-64', '65-69', '70-74', '75-79',\n",
    "                           '80 or older'], rotation=45)\n",
    "ax.set_title('Age Category')\n",
    "\n",
    "\n",
    "custom_dict = {'excellent':0, 'very good':1, 'good':2, 'fair':3, 'poor':4}\n",
    "ax = sns.histplot(data=df_full_train.sort_values(by=[top_categorical[1]], key=lambda x: x.map(custom_dict)),\n",
    "             x=top_categorical[1], hue='heartdisease', multiple='stack', stat='count', ax=axes[0,1])\n",
    "ax.set_title('General Health')\n",
    "\n",
    "\n",
    "ax = sns.histplot(data=df_full_train.sort_values(by=top_categorical[2]), x=top_categorical[2], hue='heartdisease', \n",
    "                  multiple='stack', stat='count', ax=axes[1,0])\n",
    "ax.set_title('Difficulty Walking')\n",
    "\n",
    "ax = sns.histplot(data=df_full_train.sort_values(by=top_categorical[3]), x=top_categorical[3], hue='heartdisease', \n",
    "                  multiple='stack', stat='count', ax=axes[1,1])\n",
    "ax.set_title('Diabetes')\n",
    "\n",
    "ax = sns.histplot(data=df_full_train.sort_values(by=top_categorical[4]), x=top_categorical[4], hue='heartdisease', \n",
    "                  multiple='stack', stat='count', ax=axes[2,0])\n",
    "ax.set_title('Stroke')\n",
    "\n",
    "ax = sns.histplot(data=df_full_train.sort_values(by=top_categorical[5]), x=top_categorical[5], hue='heartdisease', \n",
    "                  multiple='stack', stat='count', ax=axes[2,1])\n",
    "ax.set_title('Kidney Disease')\n",
    "\n",
    "plt.show()"
   ]
  },
  {
   "cell_type": "markdown",
   "id": "20051f34",
   "metadata": {},
   "source": [
    "The following plots show the proportion of people that have a heart disease based upon each feature of interest. With this plot it is much clearer, as it might be guessed, that as the age increases or some health issues arise the risk for a heart issue also increases."
   ]
  },
  {
   "cell_type": "code",
   "execution_count": 26,
   "id": "58c219f1",
   "metadata": {},
   "outputs": [
    {
     "name": "stderr",
     "output_type": "stream",
     "text": [
      "/tmp/ipykernel_16635/3978846712.py:4: SettingWithCopyWarning: \n",
      "A value is trying to be set on a copy of a slice from a DataFrame.\n",
      "Try using .loc[row_indexer,col_indexer] = value instead\n",
      "\n",
      "See the caveats in the documentation: https://pandas.pydata.org/pandas-docs/stable/user_guide/indexing.html#returning-a-view-versus-a-copy\n",
      "  df_exploratory['heartdisease'] = (df_exploratory['heartdisease']=='yes').astype('int')\n"
     ]
    }
   ],
   "source": [
    "heart_issues_categorical_dict = {}\n",
    "for col in top_categorical:\n",
    "    df_exploratory = df_full_train[[col, 'heartdisease']]\n",
    "    df_exploratory['heartdisease'] = (df_exploratory['heartdisease']=='yes').astype('int')\n",
    "    heart_issues_categorical_dict[col] = df_exploratory.groupby(col).sum()/df_exploratory.groupby(col).count()\n",
    "    heart_issues_categorical_dict[col].reset_index(inplace=True)"
   ]
  },
  {
   "cell_type": "code",
   "execution_count": 27,
   "id": "4cdee0b0",
   "metadata": {},
   "outputs": [
    {
     "data": {
      "image/png": "[encoded data removed]",
      "text/plain": [
       "<Figure size 1440x1440 with 6 Axes>"
      ]
     },
     "metadata": {
      "needs_background": "light"
     },
     "output_type": "display_data"
    }
   ],
   "source": [
    "plt.rcParams[\"figure.figsize\"] = (20,20)\n",
    "fig, axes = plt.subplots(3, 2)\n",
    "plt.subplots_adjust(hspace=0.5)\n",
    "\n",
    "color = 'tab:blue'\n",
    "\n",
    "ax = sns.barplot(data=heart_issues_categorical_dict[top_categorical[0]], \n",
    "                 y='heartdisease', x=top_categorical[0], ax=axes[0,0], color=color)\n",
    "ax.set_ylabel('Proportion of people with heartdisease')\n",
    "ax.set_xticklabels(labels=['18-24', '25-29', '30-34', '35-39', '40-44', '45-49',\n",
    "                           '50-54', '55-59', '60-64', '65-69', '70-74', '75-79',\n",
    "                           '80 or older'], rotation=45)\n",
    "ax.set_title('Age Category')\n",
    "\n",
    "custom_dict = {'excellent':0, 'very good':1, 'good':2, 'fair':3, 'poor':4}\n",
    "ax = sns.barplot(data=heart_issues_categorical_dict[top_categorical[1]].sort_values(by=[top_categorical[1]], key=lambda x: x.map(custom_dict)), \n",
    "                 y='heartdisease', x=top_categorical[1], ax=axes[0,1], color=color)\n",
    "ax.set_ylabel('Proportion of people with heartdisease')\n",
    "ax.set_title('General Health')\n",
    "\n",
    "\n",
    "ax = sns.barplot(data=heart_issues_categorical_dict[top_categorical[2]], \n",
    "                 y='heartdisease', x=top_categorical[2], ax=axes[1,0], color=color)\n",
    "ax.set_ylabel('Proportion of people with heartdisease')\n",
    "ax.set_title('Difficulty Walking')\n",
    "\n",
    "ax = sns.barplot(data=heart_issues_categorical_dict[top_categorical[3]], \n",
    "                 y='heartdisease', x=top_categorical[3], ax=axes[1,1], color=color)\n",
    "ax.set_ylabel('Proportion of people with heartdisease')\n",
    "ax.set_title('Diabetes')\n",
    "\n",
    "ax = sns.barplot(data=heart_issues_categorical_dict[top_categorical[4]], \n",
    "                 y='heartdisease', x=top_categorical[4], ax=axes[2,0], color=color)\n",
    "ax.set_ylabel('Proportion of people with heartdisease')\n",
    "ax.set_title('Stroke')\n",
    "\n",
    "ax = sns.barplot(data=heart_issues_categorical_dict[top_categorical[5]], \n",
    "                 y='heartdisease', x=top_categorical[5], ax=axes[2,1], color=color)\n",
    "ax.set_ylabel('Proportion of people with heartdisease')\n",
    "ax.set_title('Kidney Disease')\n",
    "\n",
    "\n",
    "plt.show()"
   ]
  },
  {
   "cell_type": "markdown",
   "id": "1b3e017c",
   "metadata": {},
   "source": [
    "## 4.2 Numerical features\n",
    "In the case of numerical features we found using correlation that two are of great interest."
   ]
  },
  {
   "cell_type": "code",
   "execution_count": 28,
   "id": "3a0c338c",
   "metadata": {},
   "outputs": [],
   "source": [
    "top_numerical = ['physicalhealth', 'bmi']"
   ]
  },
  {
   "cell_type": "code",
   "execution_count": 29,
   "id": "d8f27196",
   "metadata": {},
   "outputs": [
    {
     "data": {
      "image/png": "[encoded data removed]",
      "text/plain": [
       "<Figure size 1440x576 with 2 Axes>"
      ]
     },
     "metadata": {
      "needs_background": "light"
     },
     "output_type": "display_data"
    }
   ],
   "source": [
    "plt.rcParams[\"figure.figsize\"] = (20,8)\n",
    "fig, axes = plt.subplots(1, 2)\n",
    "plt.subplots_adjust(hspace=0.5)\n",
    "\n",
    "ax = sns.boxplot(data=df_full_train, y=top_numerical[0], x='heartdisease', ax=axes[0])\n",
    "#ax = sns.violinplot(data=df_full_train, y=top_numerical[0], x='heartdisease', ax=axes[0])\n",
    "ax.set_title('Physical Health Over 30 days')\n",
    "ax.grid('on')\n",
    "\n",
    "ax = sns.boxplot(data=df_full_train, y=top_numerical[1], x='heartdisease', ax=axes[1])\n",
    "#ax = sns.violinplot(data=df_full_train, y=top_numerical[1], x='heartdisease', ax=axes[1])\n",
    "\n",
    "ax.set_title('BMI Index')\n",
    "ax.grid('on')\n",
    "\n",
    "plt.show()"
   ]
  },
  {
   "cell_type": "markdown",
   "id": "7778f7a8",
   "metadata": {},
   "source": [
    "From these plots we could see some interesting remarks:\n",
    "* People with heart diseases tend to describre longer periods of physical health discomfort.\n",
    "* A period of health discomfort of two weeks might be an indicator of a possible heart problem.\n",
    "* BMI index for people with or without heart disease is very similar but there is a silightly higher value for people with heartdiseases. (Below is a further discussion.)\n"
   ]
  },
  {
   "cell_type": "code",
   "execution_count": 30,
   "id": "ccfb812c",
   "metadata": {},
   "outputs": [
    {
     "data": {
      "image/png": "[encoded data removed]",
      "text/plain": [
       "<Figure size 1440x576 with 1 Axes>"
      ]
     },
     "metadata": {
      "needs_background": "light"
     },
     "output_type": "display_data"
    }
   ],
   "source": [
    "bins = 50\n",
    "\n",
    "data_samples_yes = df_full_train[df_full_train['heartdisease']=='yes']['bmi'].values\n",
    "data_samples_no = df_full_train[df_full_train['heartdisease']=='no']['bmi'].values\n",
    "data_samples = df_full_train['bmi'].values\n",
    "\n",
    "#sns.histplot(df_full_train['bmi'], color='red', bins=bins)\n",
    "sns.histplot(data_samples_no, color='orange', bins=bins, label='No Heartdisease', kde=True)\n",
    "sns.histplot(data_samples_yes, bins=bins, label='Heartdisease', kde=True)\n",
    "plt.legend()\n",
    "plt.show()"
   ]
  },
  {
   "cell_type": "markdown",
   "id": "302234fe",
   "metadata": {},
   "source": [
    "Null Hypothesis: The BMI mean of people with heart diseases is greater than the BMI mean of people without heart diseases. "
   ]
  },
  {
   "cell_type": "code",
   "execution_count": 31,
   "id": "37c9543f",
   "metadata": {},
   "outputs": [
    {
     "data": {
      "text/plain": [
       "KstestResult(statistic=0.0008436745818113569, pvalue=0.9712007424445028)"
      ]
     },
     "execution_count": 31,
     "metadata": {},
     "output_type": "execute_result"
    }
   ],
   "source": [
    "stats.ks_2samp(data_samples_yes, data_samples_no, alternative='greater')"
   ]
  },
  {
   "cell_type": "markdown",
   "id": "e7aa1805",
   "metadata": {},
   "source": [
    "There is statistical significance $(p>0.05)$ to say that in fact the BMI mean of people with heart disease is greater than the BMI mean of the healthy group."
   ]
  },
  {
   "cell_type": "code",
   "execution_count": 50,
   "id": "a6ac7cbf",
   "metadata": {},
   "outputs": [
    {
     "name": "stdout",
     "output_type": "stream",
     "text": [
      "p value: 0.971\n"
     ]
    }
   ],
   "source": [
    "stat, p = stats.ks_2samp(data_samples_yes, data_samples_no, alternative='greater')\n",
    "print('p value: %.3f'%p)"
   ]
  },
  {
   "cell_type": "code",
   "execution_count": 51,
   "id": "3cdd1d57",
   "metadata": {},
   "outputs": [
    {
     "name": "stdout",
     "output_type": "stream",
     "text": [
      "Probably greater mean for group with heart disease\n"
     ]
    }
   ],
   "source": [
    "if p > 0.05:\n",
    "    print('Probably greater mean for group with heart disease')\n",
    "else:\n",
    "    print('Probably same mean for group with heart disease')"
   ]
  },
  {
   "cell_type": "code",
   "execution_count": null,
   "id": "9fe56bbb",
   "metadata": {},
   "outputs": [],
   "source": []
  }
 ],
 "metadata": {
  "kernelspec": {
   "display_name": "Python 3 (ipykernel)",
   "language": "python",
   "name": "python3"
  },
  "language_info": {
   "codemirror_mode": {
    "name": "ipython",
    "version": 3
   },
   "file_extension": ".py",
   "mimetype": "text/x-python",
   "name": "python",
   "nbconvert_exporter": "python",
   "pygments_lexer": "ipython3",
   "version": "3.8.12"
  }
 },
 "nbformat": 4,
 "nbformat_minor": 5
}
