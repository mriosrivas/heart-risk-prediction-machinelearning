{
 "cells": [
  {
   "cell_type": "markdown",
   "id": "650403b2",
   "metadata": {},
   "source": [
    "# Model Usage\n",
    "This Jupyter Notebook shows how to use the model developed earlier. Since each model performs very similar, I will present how to use each one. For both the Logistic Regression and Random Forrest the data preparation is the same, in case of XGBoost an extra step is needed."
   ]
  },
  {
   "cell_type": "markdown",
   "id": "374a230b",
   "metadata": {},
   "source": [
    "## 1. Create User Cases"
   ]
  },
  {
   "cell_type": "code",
   "execution_count": 1,
   "id": "a6fe1619",
   "metadata": {},
   "outputs": [],
   "source": [
    "user_1 = {'bmi': 24.3,\n",
    " 'smoking': 'no',\n",
    " 'alcoholdrinking': 'no',\n",
    " 'stroke': 'no',\n",
    " 'physicalhealth': 0.0,\n",
    " 'mentalhealth': 15.0,\n",
    " 'diffwalking': 'no',\n",
    " 'sex': 'female',\n",
    " 'agecategory': '40-44',\n",
    " 'race': 'white',\n",
    " 'diabetic': 'no',\n",
    " 'physicalactivity': 'yes',\n",
    " 'genhealth': 'excellent',\n",
    " 'sleeptime': 7.0,\n",
    " 'asthma': 'no',\n",
    " 'kidneydisease': 'no',\n",
    " 'skincancer': 'no'}\n",
    "\n",
    "\n",
    "user_2 = {'bmi': 23.78,\n",
    " 'smoking': 'yes',\n",
    " 'alcoholdrinking': 'no',\n",
    " 'stroke': 'yes',\n",
    " 'physicalhealth': 0.0,\n",
    " 'mentalhealth': 0.0,\n",
    " 'diffwalking': 'yes',\n",
    " 'sex': 'female',\n",
    " 'agecategory': '80 or older',\n",
    " 'race': 'black',\n",
    " 'diabetic': 'yes',\n",
    " 'physicalactivity': 'no',\n",
    " 'genhealth': 'good',\n",
    " 'sleeptime': 7.0,\n",
    " 'asthma': 'no',\n",
    " 'kidneydisease': 'no',\n",
    " 'skincancer': 'no'}\n",
    "\n",
    "\n",
    "user_3 = {'bmi': 19.66,\n",
    " 'smoking': 'no',\n",
    " 'alcoholdrinking': 'no',\n",
    " 'stroke': 'no',\n",
    " 'physicalhealth': 0.0,\n",
    " 'mentalhealth': 0.0,\n",
    " 'diffwalking': 'no',\n",
    " 'sex': 'male',\n",
    " 'agecategory': '18-24',\n",
    " 'race': 'hispanic',\n",
    " 'diabetic': 'no',\n",
    " 'physicalactivity': 'yes',\n",
    " 'genhealth': 'excellent',\n",
    " 'sleeptime': 8.0,\n",
    " 'asthma': 'no',\n",
    " 'kidneydisease': 'no',\n",
    " 'skincancer': 'no'}"
   ]
  },
  {
   "cell_type": "markdown",
   "id": "54e10212",
   "metadata": {},
   "source": [
    "## 2. Load DictVectorizer and Model"
   ]
  },
  {
   "cell_type": "code",
   "execution_count": 2,
   "id": "34bf2dda",
   "metadata": {},
   "outputs": [],
   "source": [
    "import pickle as pkl\n",
    "import xgboost as xgb"
   ]
  },
  {
   "cell_type": "code",
   "execution_count": 3,
   "id": "ef828abf",
   "metadata": {},
   "outputs": [],
   "source": [
    "file_dictVect = 'dict_vectorizer.bin'\n",
    "\n",
    "with open(file_dictVect, 'rb') as dictVect:\n",
    "    dv = pkl.load(dictVect)"
   ]
  },
  {
   "cell_type": "code",
   "execution_count": 4,
   "id": "644e36ba",
   "metadata": {},
   "outputs": [],
   "source": [
    "model_selection = ('logistic', 'random_forrest', 'xgboost')\n",
    "model_selected = model_selection[2]"
   ]
  },
  {
   "cell_type": "code",
   "execution_count": 5,
   "id": "d500d8d0",
   "metadata": {},
   "outputs": [],
   "source": [
    "if model_selected == 'logistic':\n",
    "    file_model = 'logistic_regression.bin'\n",
    "elif model_selected == 'random_forrest':\n",
    "    file_model = 'random_forrest.bin'\n",
    "elif model_selected == 'xgboost':\n",
    "    file_model = 'xgboost.bin'\n",
    "else:\n",
    "    file_model = 'logistic_regression.bin'\n",
    "\n",
    "\n",
    "with open(file_model, 'rb') as file:\n",
    "    model = pkl.load(file)"
   ]
  },
  {
   "cell_type": "markdown",
   "id": "6fac28af",
   "metadata": {},
   "source": [
    "## 3. Use the model"
   ]
  },
  {
   "cell_type": "code",
   "execution_count": 6,
   "id": "ed39805e",
   "metadata": {},
   "outputs": [],
   "source": [
    "data = user_3"
   ]
  },
  {
   "cell_type": "code",
   "execution_count": 7,
   "id": "5615dd9d",
   "metadata": {},
   "outputs": [
    {
     "name": "stdout",
     "output_type": "stream",
     "text": [
      "0.0041679004\n"
     ]
    }
   ],
   "source": [
    "if model_selected == 'logistic' or model_selected == 'random_forrest':\n",
    "    X = dv.transform(data)\n",
    "    y = model.predict_proba(X)[0][1]\n",
    "    print(y)\n",
    "    \n",
    "elif model_selected == 'xgboost':\n",
    "    X = xgb.DMatrix(data=dv.transform(data), feature_names=list(dv.get_feature_names_out()))\n",
    "    y = model.predict(X)[0]\n",
    "    print(y)"
   ]
  },
  {
   "cell_type": "code",
   "execution_count": 8,
   "id": "685c1054",
   "metadata": {},
   "outputs": [
    {
     "name": "stdout",
     "output_type": "stream",
     "text": [
      "xgboost\n"
     ]
    }
   ],
   "source": [
    "print(model_selected)"
   ]
  },
  {
   "cell_type": "code",
   "execution_count": null,
   "id": "14da5acb",
   "metadata": {},
   "outputs": [],
   "source": []
  }
 ],
 "metadata": {
  "kernelspec": {
   "display_name": "Python 3 (ipykernel)",
   "language": "python",
   "name": "python3"
  },
  "language_info": {
   "codemirror_mode": {
    "name": "ipython",
    "version": 3
   },
   "file_extension": ".py",
   "mimetype": "text/x-python",
   "name": "python",
   "nbconvert_exporter": "python",
   "pygments_lexer": "ipython3",
   "version": "3.8.12"
  }
 },
 "nbformat": 4,
 "nbformat_minor": 5
}
