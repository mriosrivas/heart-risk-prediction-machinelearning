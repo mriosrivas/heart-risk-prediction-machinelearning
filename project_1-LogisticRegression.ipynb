{
 "cells": [
  {
   "cell_type": "markdown",
   "id": "8766140a",
   "metadata": {},
   "source": [
    "# Logistic Regression\n",
    "In this Jupyter Notebook a Logistic Regression will be implemented. Data cleaning from the previous notebook will be used and then it is splitted into trainin-validation-test sets for implementing the Logistic Regression model. The following steps are developed in this work:\n",
    "\n",
    "1. Load and cleand data.\n",
    "2. Split data into training/validation/test data\n",
    "3. Use a `DictVectorizer` to turn data into matrix for training\n",
    "4. Develop Logistic Regression Model <br>\n",
    "    4.1 Simple Logistic Regression with default parameters <br>\n",
    "    4.2 Logistic Regression with Regularization <br>\n",
    "    4.3 Logistic Regression with K-Fold Cross Validation <br>\n",
    "    4.4 K-fold and cross validation on logistic regression, C-value tuning"
   ]
  },
  {
   "cell_type": "code",
   "execution_count": 1,
   "id": "15ecd1e8",
   "metadata": {},
   "outputs": [],
   "source": [
    "import numpy as np\n",
    "import pandas as pd\n",
    "import matplotlib.pyplot as plt\n",
    "import seaborn as sns\n",
    "\n",
    "from tqdm.auto import tqdm\n",
    "\n",
    "from sklearn.model_selection import train_test_split\n",
    "from sklearn.feature_extraction import DictVectorizer\n",
    "from sklearn.linear_model import LogisticRegression\n",
    "from sklearn.metrics import roc_auc_score\n",
    "from sklearn.model_selection import KFold"
   ]
  },
  {
   "cell_type": "markdown",
   "id": "7e257f3f",
   "metadata": {},
   "source": [
    "# 1. Load and clean data"
   ]
  },
  {
   "cell_type": "code",
   "execution_count": 3,
   "id": "1240a073",
   "metadata": {},
   "outputs": [],
   "source": [
    "df = pd.read_csv('../datasets/heart_disease/heart_2020_cleaned.csv')\n",
    "df.columns = df.columns.str.lower()\n",
    "\n",
    "numerical = list(df.dtypes[df.dtypes == 'float'].index.values)\n",
    "categorical = list(df.dtypes[df.dtypes == 'object'].index.values)\n",
    "categorical.remove('heartdisease')\n",
    "\n",
    "for c in categorical:\n",
    "    df[c] = df[c].str.lower()\n",
    "\n",
    "df['heartdisease'] = df['heartdisease'].str.lower()"
   ]
  },
  {
   "cell_type": "markdown",
   "id": "5a75213b",
   "metadata": {},
   "source": [
    "# 2. Split data into training/validation/test data"
   ]
  },
  {
   "cell_type": "code",
   "execution_count": 4,
   "id": "5087a5ec",
   "metadata": {},
   "outputs": [],
   "source": [
    "df_full_train, df_test = train_test_split(df, test_size=0.20, random_state=1)\n",
    "df_train, df_val = train_test_split(df_full_train, test_size=0.25, random_state=1)\n",
    "\n",
    "y_train = (df_train['heartdisease']=='yes').astype('int').values\n",
    "y_val = (df_val['heartdisease']=='yes').astype('int').values\n",
    "y_test = (df_test['heartdisease']=='yes').astype('int').values\n",
    "\n",
    "df_train = df_train.drop(columns='heartdisease')\n",
    "df_val = df_val.drop(columns='heartdisease')\n",
    "df_test = df_test.drop(columns='heartdisease')\n",
    "\n",
    "df_full_train = df_full_train.reset_index(drop=True)\n",
    "df_train = df_train.reset_index(drop=True)\n",
    "df_val = df_val.reset_index(drop=True)\n",
    "df_test = df_test.reset_index(drop=True)"
   ]
  },
  {
   "cell_type": "markdown",
   "id": "c013d169",
   "metadata": {},
   "source": [
    "# 3. Dict Vectorizer"
   ]
  },
  {
   "cell_type": "code",
   "execution_count": 5,
   "id": "9c584580",
   "metadata": {},
   "outputs": [],
   "source": [
    "dv = DictVectorizer(sparse=False)\n",
    "\n",
    "X_train = dv.fit_transform(df_train.to_dict(orient='records'))\n",
    "X_val = dv.transform(df_val.to_dict(orient='records'))\n",
    "X_test = dv.transform(df_test.to_dict(orient='records'))"
   ]
  },
  {
   "cell_type": "markdown",
   "id": "88669661",
   "metadata": {},
   "source": [
    "# 4. Develop Logistic Regression Model"
   ]
  },
  {
   "cell_type": "markdown",
   "id": "6493b09c",
   "metadata": {},
   "source": [
    "## 4.1 Simple Logistic Regression with default parameters"
   ]
  },
  {
   "cell_type": "code",
   "execution_count": 10,
   "id": "58aaf175",
   "metadata": {},
   "outputs": [
    {
     "data": {
      "text/plain": [
       "0.8405325039916198"
      ]
     },
     "execution_count": 10,
     "metadata": {},
     "output_type": "execute_result"
    }
   ],
   "source": [
    "lr = LogisticRegression(random_state=1, max_iter=10000)\n",
    "lr.fit(X_train, y_train)\n",
    "y_pred = lr.predict_proba(X_val)\n",
    "\n",
    "roc_auc_score(y_val, y_pred[:,1])"
   ]
  },
  {
   "cell_type": "code",
   "execution_count": 11,
   "id": "80e249ec",
   "metadata": {},
   "outputs": [
    {
     "data": {
      "text/html": [
       "<div>\n",
       "<style scoped>\n",
       "    .dataframe tbody tr th:only-of-type {\n",
       "        vertical-align: middle;\n",
       "    }\n",
       "\n",
       "    .dataframe tbody tr th {\n",
       "        vertical-align: top;\n",
       "    }\n",
       "\n",
       "    .dataframe thead th {\n",
       "        text-align: right;\n",
       "    }\n",
       "</style>\n",
       "<table border=\"1\" class=\"dataframe\">\n",
       "  <thead>\n",
       "    <tr style=\"text-align: right;\">\n",
       "      <th></th>\n",
       "      <th>feature</th>\n",
       "      <th>coefficient</th>\n",
       "    </tr>\n",
       "  </thead>\n",
       "  <tbody>\n",
       "    <tr>\n",
       "      <th>12</th>\n",
       "      <td>agecategory=80 or older</td>\n",
       "      <td>1.577492</td>\n",
       "    </tr>\n",
       "    <tr>\n",
       "      <th>11</th>\n",
       "      <td>agecategory=75-79</td>\n",
       "      <td>1.316811</td>\n",
       "    </tr>\n",
       "    <tr>\n",
       "      <th>10</th>\n",
       "      <td>agecategory=70-74</td>\n",
       "      <td>1.138805</td>\n",
       "    </tr>\n",
       "    <tr>\n",
       "      <th>9</th>\n",
       "      <td>agecategory=65-69</td>\n",
       "      <td>0.832230</td>\n",
       "    </tr>\n",
       "    <tr>\n",
       "      <th>27</th>\n",
       "      <td>genhealth=poor</td>\n",
       "      <td>0.829630</td>\n",
       "    </tr>\n",
       "    <tr>\n",
       "      <th>8</th>\n",
       "      <td>agecategory=60-64</td>\n",
       "      <td>0.596847</td>\n",
       "    </tr>\n",
       "    <tr>\n",
       "      <th>25</th>\n",
       "      <td>genhealth=fair</td>\n",
       "      <td>0.461774</td>\n",
       "    </tr>\n",
       "    <tr>\n",
       "      <th>49</th>\n",
       "      <td>stroke=yes</td>\n",
       "      <td>0.372306</td>\n",
       "    </tr>\n",
       "    <tr>\n",
       "      <th>7</th>\n",
       "      <td>agecategory=55-59</td>\n",
       "      <td>0.325866</td>\n",
       "    </tr>\n",
       "    <tr>\n",
       "      <th>20</th>\n",
       "      <td>diabetic=yes</td>\n",
       "      <td>0.187098</td>\n",
       "    </tr>\n",
       "    <tr>\n",
       "      <th>42</th>\n",
       "      <td>sex=male</td>\n",
       "      <td>0.187051</td>\n",
       "    </tr>\n",
       "    <tr>\n",
       "      <th>35</th>\n",
       "      <td>race=american indian/alaskan native</td>\n",
       "      <td>0.175827</td>\n",
       "    </tr>\n",
       "    <tr>\n",
       "      <th>30</th>\n",
       "      <td>kidneydisease=yes</td>\n",
       "      <td>0.103444</td>\n",
       "    </tr>\n",
       "    <tr>\n",
       "      <th>39</th>\n",
       "      <td>race=other</td>\n",
       "      <td>0.089733</td>\n",
       "    </tr>\n",
       "    <tr>\n",
       "      <th>40</th>\n",
       "      <td>race=white</td>\n",
       "      <td>0.081611</td>\n",
       "    </tr>\n",
       "    <tr>\n",
       "      <th>6</th>\n",
       "      <td>agecategory=50-54</td>\n",
       "      <td>0.057563</td>\n",
       "    </tr>\n",
       "    <tr>\n",
       "      <th>17</th>\n",
       "      <td>bmi</td>\n",
       "      <td>0.008531</td>\n",
       "    </tr>\n",
       "    <tr>\n",
       "      <th>47</th>\n",
       "      <td>smoking=yes</td>\n",
       "      <td>0.006505</td>\n",
       "    </tr>\n",
       "    <tr>\n",
       "      <th>31</th>\n",
       "      <td>mentalhealth</td>\n",
       "      <td>0.004350</td>\n",
       "    </tr>\n",
       "    <tr>\n",
       "      <th>34</th>\n",
       "      <td>physicalhealth</td>\n",
       "      <td>0.003215</td>\n",
       "    </tr>\n",
       "    <tr>\n",
       "      <th>16</th>\n",
       "      <td>asthma=yes</td>\n",
       "      <td>-0.019875</td>\n",
       "    </tr>\n",
       "    <tr>\n",
       "      <th>26</th>\n",
       "      <td>genhealth=good</td>\n",
       "      <td>-0.026429</td>\n",
       "    </tr>\n",
       "    <tr>\n",
       "      <th>45</th>\n",
       "      <td>sleeptime</td>\n",
       "      <td>-0.029979</td>\n",
       "    </tr>\n",
       "    <tr>\n",
       "      <th>13</th>\n",
       "      <td>alcoholdrinking=no</td>\n",
       "      <td>-0.062946</td>\n",
       "    </tr>\n",
       "    <tr>\n",
       "      <th>23</th>\n",
       "      <td>diffwalking=yes</td>\n",
       "      <td>-0.065855</td>\n",
       "    </tr>\n",
       "    <tr>\n",
       "      <th>21</th>\n",
       "      <td>diabetic=yes (during pregnancy)</td>\n",
       "      <td>-0.096150</td>\n",
       "    </tr>\n",
       "    <tr>\n",
       "      <th>44</th>\n",
       "      <td>skincancer=yes</td>\n",
       "      <td>-0.114394</td>\n",
       "    </tr>\n",
       "    <tr>\n",
       "      <th>38</th>\n",
       "      <td>race=hispanic</td>\n",
       "      <td>-0.123914</td>\n",
       "    </tr>\n",
       "    <tr>\n",
       "      <th>19</th>\n",
       "      <td>diabetic=no, borderline diabetes</td>\n",
       "      <td>-0.140681</td>\n",
       "    </tr>\n",
       "    <tr>\n",
       "      <th>32</th>\n",
       "      <td>physicalactivity=no</td>\n",
       "      <td>-0.168086</td>\n",
       "    </tr>\n",
       "    <tr>\n",
       "      <th>33</th>\n",
       "      <td>physicalactivity=yes</td>\n",
       "      <td>-0.170750</td>\n",
       "    </tr>\n",
       "    <tr>\n",
       "      <th>37</th>\n",
       "      <td>race=black</td>\n",
       "      <td>-0.196294</td>\n",
       "    </tr>\n",
       "    <tr>\n",
       "      <th>43</th>\n",
       "      <td>skincancer=no</td>\n",
       "      <td>-0.224443</td>\n",
       "    </tr>\n",
       "    <tr>\n",
       "      <th>22</th>\n",
       "      <td>diffwalking=no</td>\n",
       "      <td>-0.272982</td>\n",
       "    </tr>\n",
       "    <tr>\n",
       "      <th>14</th>\n",
       "      <td>alcoholdrinking=yes</td>\n",
       "      <td>-0.275891</td>\n",
       "    </tr>\n",
       "    <tr>\n",
       "      <th>18</th>\n",
       "      <td>diabetic=no</td>\n",
       "      <td>-0.289104</td>\n",
       "    </tr>\n",
       "    <tr>\n",
       "      <th>15</th>\n",
       "      <td>asthma=no</td>\n",
       "      <td>-0.318962</td>\n",
       "    </tr>\n",
       "    <tr>\n",
       "      <th>5</th>\n",
       "      <td>agecategory=45-49</td>\n",
       "      <td>-0.330252</td>\n",
       "    </tr>\n",
       "    <tr>\n",
       "      <th>46</th>\n",
       "      <td>smoking=no</td>\n",
       "      <td>-0.345342</td>\n",
       "    </tr>\n",
       "    <tr>\n",
       "      <th>36</th>\n",
       "      <td>race=asian</td>\n",
       "      <td>-0.365799</td>\n",
       "    </tr>\n",
       "    <tr>\n",
       "      <th>29</th>\n",
       "      <td>kidneydisease=no</td>\n",
       "      <td>-0.442281</td>\n",
       "    </tr>\n",
       "    <tr>\n",
       "      <th>41</th>\n",
       "      <td>sex=female</td>\n",
       "      <td>-0.525887</td>\n",
       "    </tr>\n",
       "    <tr>\n",
       "      <th>28</th>\n",
       "      <td>genhealth=very good</td>\n",
       "      <td>-0.561567</td>\n",
       "    </tr>\n",
       "    <tr>\n",
       "      <th>4</th>\n",
       "      <td>agecategory=40-44</td>\n",
       "      <td>-0.584008</td>\n",
       "    </tr>\n",
       "    <tr>\n",
       "      <th>48</th>\n",
       "      <td>stroke=no</td>\n",
       "      <td>-0.711143</td>\n",
       "    </tr>\n",
       "    <tr>\n",
       "      <th>24</th>\n",
       "      <td>genhealth=excellent</td>\n",
       "      <td>-1.042244</td>\n",
       "    </tr>\n",
       "    <tr>\n",
       "      <th>3</th>\n",
       "      <td>agecategory=35-39</td>\n",
       "      <td>-1.103991</td>\n",
       "    </tr>\n",
       "    <tr>\n",
       "      <th>2</th>\n",
       "      <td>agecategory=30-34</td>\n",
       "      <td>-1.114506</td>\n",
       "    </tr>\n",
       "    <tr>\n",
       "      <th>1</th>\n",
       "      <td>agecategory=25-29</td>\n",
       "      <td>-1.410329</td>\n",
       "    </tr>\n",
       "    <tr>\n",
       "      <th>0</th>\n",
       "      <td>agecategory=18-24</td>\n",
       "      <td>-1.641366</td>\n",
       "    </tr>\n",
       "  </tbody>\n",
       "</table>\n",
       "</div>"
      ],
      "text/plain": [
       "                                feature  coefficient\n",
       "12              agecategory=80 or older     1.577492\n",
       "11                    agecategory=75-79     1.316811\n",
       "10                    agecategory=70-74     1.138805\n",
       "9                     agecategory=65-69     0.832230\n",
       "27                       genhealth=poor     0.829630\n",
       "8                     agecategory=60-64     0.596847\n",
       "25                       genhealth=fair     0.461774\n",
       "49                           stroke=yes     0.372306\n",
       "7                     agecategory=55-59     0.325866\n",
       "20                         diabetic=yes     0.187098\n",
       "42                             sex=male     0.187051\n",
       "35  race=american indian/alaskan native     0.175827\n",
       "30                    kidneydisease=yes     0.103444\n",
       "39                           race=other     0.089733\n",
       "40                           race=white     0.081611\n",
       "6                     agecategory=50-54     0.057563\n",
       "17                                  bmi     0.008531\n",
       "47                          smoking=yes     0.006505\n",
       "31                         mentalhealth     0.004350\n",
       "34                       physicalhealth     0.003215\n",
       "16                           asthma=yes    -0.019875\n",
       "26                       genhealth=good    -0.026429\n",
       "45                            sleeptime    -0.029979\n",
       "13                   alcoholdrinking=no    -0.062946\n",
       "23                      diffwalking=yes    -0.065855\n",
       "21      diabetic=yes (during pregnancy)    -0.096150\n",
       "44                       skincancer=yes    -0.114394\n",
       "38                        race=hispanic    -0.123914\n",
       "19     diabetic=no, borderline diabetes    -0.140681\n",
       "32                  physicalactivity=no    -0.168086\n",
       "33                 physicalactivity=yes    -0.170750\n",
       "37                           race=black    -0.196294\n",
       "43                        skincancer=no    -0.224443\n",
       "22                       diffwalking=no    -0.272982\n",
       "14                  alcoholdrinking=yes    -0.275891\n",
       "18                          diabetic=no    -0.289104\n",
       "15                            asthma=no    -0.318962\n",
       "5                     agecategory=45-49    -0.330252\n",
       "46                           smoking=no    -0.345342\n",
       "36                           race=asian    -0.365799\n",
       "29                     kidneydisease=no    -0.442281\n",
       "41                           sex=female    -0.525887\n",
       "28                  genhealth=very good    -0.561567\n",
       "4                     agecategory=40-44    -0.584008\n",
       "48                            stroke=no    -0.711143\n",
       "24                  genhealth=excellent    -1.042244\n",
       "3                     agecategory=35-39    -1.103991\n",
       "2                     agecategory=30-34    -1.114506\n",
       "1                     agecategory=25-29    -1.410329\n",
       "0                     agecategory=18-24    -1.641366"
      ]
     },
     "execution_count": 11,
     "metadata": {},
     "output_type": "execute_result"
    }
   ],
   "source": [
    "df_logistic_regression = pd.DataFrame(data=dv.feature_names_, columns=['feature'])\n",
    "\n",
    "df_logistic_regression['coefficient'] = lr.coef_[0]\n",
    "\n",
    "df_logistic_regression.sort_values(by='coefficient', ascending=False)"
   ]
  },
  {
   "cell_type": "markdown",
   "id": "bda9a719",
   "metadata": {},
   "source": [
    "## 4.2 Logistic Regression with Regularization"
   ]
  },
  {
   "cell_type": "code",
   "execution_count": 15,
   "id": "c12e0e80",
   "metadata": {},
   "outputs": [],
   "source": [
    "def train_lr(X_train, y_train, C=1.0):\n",
    "    lr = LogisticRegression(random_state=1, max_iter=10000, C=C)\n",
    "    lr.fit(X_train, y_train)\n",
    "    return lr\n",
    "\n",
    "def predict_lr(X_val, lr):\n",
    "    y_pred = lr.predict_proba(X_val)\n",
    "    return y_pred[:,1]\n",
    "\n",
    "def process_training_data(df_train):\n",
    "    dv = DictVectorizer(sparse=False)\n",
    "    X_train = dv.fit_transform(df_train.to_dict(orient='records'))\n",
    "    return dv, X_train\n",
    "\n",
    "def process_inference_data(df_val, dv):\n",
    "    X_val = dv.transform(df_val.to_dict(orient='records'))\n",
    "    return X_val"
   ]
  },
  {
   "cell_type": "code",
   "execution_count": 16,
   "id": "a9cbc6a8",
   "metadata": {},
   "outputs": [],
   "source": [
    "dv, X_train = process_training_data(df_train)\n",
    "X_val = process_inference_data(df_val, dv)\n",
    "lr = train_lr(X_train, y_train)\n",
    "y_pred = predict_lr(X_val, lr)"
   ]
  },
  {
   "cell_type": "code",
   "execution_count": 17,
   "id": "dbb7c2d5",
   "metadata": {},
   "outputs": [
    {
     "data": {
      "text/plain": [
       "0.8405325039916198"
      ]
     },
     "execution_count": 17,
     "metadata": {},
     "output_type": "execute_result"
    }
   ],
   "source": [
    "roc_auc_score(y_val, y_pred)"
   ]
  },
  {
   "cell_type": "markdown",
   "id": "21ac0dd6",
   "metadata": {},
   "source": [
    "## 4.3 Logistic Regression with K-Fold Cross Validation"
   ]
  },
  {
   "cell_type": "code",
   "execution_count": 18,
   "id": "81b32d1a",
   "metadata": {},
   "outputs": [],
   "source": [
    "kfold = KFold(n_splits=10, shuffle=True, random_state=1)"
   ]
  },
  {
   "cell_type": "code",
   "execution_count": 19,
   "id": "7fd98b5e",
   "metadata": {},
   "outputs": [],
   "source": [
    "#df_full_train['heartdisease'] = (df_full_train['heartdisease'] == 'yes').astype('int')"
   ]
  },
  {
   "cell_type": "code",
   "execution_count": 20,
   "id": "4b683ac5",
   "metadata": {},
   "outputs": [
    {
     "data": {
      "application/vnd.jupyter.widget-view+json": {
       "model_id": "17d5012b640542de8403e88dd69bed8e",
       "version_major": 2,
       "version_minor": 0
      },
      "text/plain": [
       "0it [00:00, ?it/s]"
      ]
     },
     "metadata": {},
     "output_type": "display_data"
    }
   ],
   "source": [
    "aucs = []\n",
    "\n",
    "for train_idx, val_idx in tqdm(kfold.split(df_full_train)):\n",
    "    df_train_kfold = df_full_train.iloc[train_idx]\n",
    "    y_train_kfold = df_train_kfold.heartdisease.values\n",
    "    df_train_kfold = df_train_kfold.drop(columns = 'heartdisease')\n",
    "\n",
    "    df_val_kfold = df_full_train.iloc[val_idx]\n",
    "    y_val_kfold = df_val_kfold.heartdisease.values\n",
    "    df_val_kfold = df_val_kfold.drop(columns = 'heartdisease')\n",
    "\n",
    "    dv_kfold, X_train_kfold = process_training_data(df_train_kfold)\n",
    "    X_val_kfold = process_inference_data(df_val_kfold, dv_kfold)\n",
    "    lr_kfold = train_lr(X_train_kfold, y_train_kfold)\n",
    "    y_pred_kfold = predict_lr(X_val_kfold, lr_kfold)\n",
    "\n",
    "    rocauc = roc_auc_score(y_val_kfold, y_pred_kfold)\n",
    "    aucs.append(rocauc)"
   ]
  },
  {
   "cell_type": "code",
   "execution_count": 21,
   "id": "fcb44976",
   "metadata": {},
   "outputs": [],
   "source": [
    "aucs = np.array(aucs)"
   ]
  },
  {
   "cell_type": "code",
   "execution_count": 22,
   "id": "eb62bc5a",
   "metadata": {},
   "outputs": [
    {
     "name": "stdout",
     "output_type": "stream",
     "text": [
      "mean auc = 0.840\n",
      "std auc = 0.003\n"
     ]
    }
   ],
   "source": [
    "print('mean auc = {:.3f}'.format(aucs.mean()))\n",
    "print('std auc = {:.3f}'.format(aucs.std()))"
   ]
  },
  {
   "cell_type": "markdown",
   "id": "f32db201",
   "metadata": {},
   "source": [
    "\n",
    "## 4.4 K-fold and cross validation on logistic regression, C-value tuning"
   ]
  },
  {
   "cell_type": "code",
   "execution_count": 38,
   "id": "bb346779",
   "metadata": {},
   "outputs": [
    {
     "data": {
      "application/vnd.jupyter.widget-view+json": {
       "model_id": "f4e73bee776c4a79914a359f06e30f8e",
       "version_major": 2,
       "version_minor": 0
      },
      "text/plain": [
       "  0%|          | 0/8 [00:00<?, ?it/s]"
      ]
     },
     "metadata": {},
     "output_type": "display_data"
    },
    {
     "data": {
      "application/vnd.jupyter.widget-view+json": {
       "model_id": "823455ffc1f547ddbd6522740c88b7a2",
       "version_major": 2,
       "version_minor": 0
      },
      "text/plain": [
       "0it [00:00, ?it/s]"
      ]
     },
     "metadata": {},
     "output_type": "display_data"
    },
    {
     "name": "stdout",
     "output_type": "stream",
     "text": [
      "C= 0.001, auc = 0.830919 ± 0.002894\n"
     ]
    },
    {
     "data": {
      "application/vnd.jupyter.widget-view+json": {
       "model_id": "bb4bd580db6044c684e00ea25aa6e2e5",
       "version_major": 2,
       "version_minor": 0
      },
      "text/plain": [
       "0it [00:00, ?it/s]"
      ]
     },
     "metadata": {},
     "output_type": "display_data"
    },
    {
     "name": "stdout",
     "output_type": "stream",
     "text": [
      "C=  0.01, auc = 0.839898 ± 0.002247\n"
     ]
    },
    {
     "data": {
      "application/vnd.jupyter.widget-view+json": {
       "model_id": "82276b951a8c498983593fd3f076baa5",
       "version_major": 2,
       "version_minor": 0
      },
      "text/plain": [
       "0it [00:00, ?it/s]"
      ]
     },
     "metadata": {},
     "output_type": "display_data"
    },
    {
     "name": "stdout",
     "output_type": "stream",
     "text": [
      "C=   0.1, auc = 0.840014 ± 0.002187\n"
     ]
    },
    {
     "data": {
      "application/vnd.jupyter.widget-view+json": {
       "model_id": "04d96d7eaca6417a8ccd6c4dba0854c6",
       "version_major": 2,
       "version_minor": 0
      },
      "text/plain": [
       "0it [00:00, ?it/s]"
      ]
     },
     "metadata": {},
     "output_type": "display_data"
    },
    {
     "name": "stdout",
     "output_type": "stream",
     "text": [
      "C=   0.5, auc = 0.839926 ± 0.002188\n"
     ]
    },
    {
     "data": {
      "application/vnd.jupyter.widget-view+json": {
       "model_id": "206d9cd2fdf64181bdf9797dbfcffda1",
       "version_major": 2,
       "version_minor": 0
      },
      "text/plain": [
       "0it [00:00, ?it/s]"
      ]
     },
     "metadata": {},
     "output_type": "display_data"
    },
    {
     "name": "stdout",
     "output_type": "stream",
     "text": [
      "C=     1, auc = 0.839915 ± 0.002182\n"
     ]
    },
    {
     "data": {
      "application/vnd.jupyter.widget-view+json": {
       "model_id": "96e5d0c3d4704be581266b0060c0d44a",
       "version_major": 2,
       "version_minor": 0
      },
      "text/plain": [
       "0it [00:00, ?it/s]"
      ]
     },
     "metadata": {},
     "output_type": "display_data"
    },
    {
     "name": "stdout",
     "output_type": "stream",
     "text": [
      "C=    10, auc = 0.839907 ± 0.002188\n"
     ]
    },
    {
     "data": {
      "application/vnd.jupyter.widget-view+json": {
       "model_id": "cf9595b76933431b8a16a0c4c94a90a8",
       "version_major": 2,
       "version_minor": 0
      },
      "text/plain": [
       "0it [00:00, ?it/s]"
      ]
     },
     "metadata": {},
     "output_type": "display_data"
    },
    {
     "name": "stdout",
     "output_type": "stream",
     "text": [
      "C=   100, auc = 0.839903 ± 0.002186\n"
     ]
    },
    {
     "data": {
      "application/vnd.jupyter.widget-view+json": {
       "model_id": "b5530b05840f46fda2abfe75e3b758e0",
       "version_major": 2,
       "version_minor": 0
      },
      "text/plain": [
       "0it [00:00, ?it/s]"
      ]
     },
     "metadata": {},
     "output_type": "display_data"
    },
    {
     "name": "stdout",
     "output_type": "stream",
     "text": [
      "C=  1000, auc = 0.839908 ± 0.002186\n"
     ]
    }
   ],
   "source": [
    "for C in tqdm([0.001, 0.01, 0.1, 0.5, 1, 10, 100, 1000]):\n",
    "\n",
    "    kfold = KFold(n_splits=5, shuffle=True, random_state=1)\n",
    "\n",
    "    aucs = []\n",
    "\n",
    "    for train_idx, val_idx in tqdm(kfold.split(df_full_train)):\n",
    "        df_train_kfold = df_full_train.iloc[train_idx]\n",
    "        y_train_kfold = df_train_kfold.heartdisease.values\n",
    "        df_train_kfold = df_train_kfold.drop(columns = 'heartdisease')\n",
    "\n",
    "        df_val_kfold = df_full_train.iloc[val_idx]\n",
    "        y_val_kfold = df_val_kfold.heartdisease.values\n",
    "        df_val_kfold = df_val_kfold.drop(columns = 'heartdisease')\n",
    "\n",
    "        dv_kfold, X_train_kfold = process_training_data(df_train_kfold)\n",
    "        X_val_kfold = process_inference_data(df_val_kfold, dv_kfold)\n",
    "        lr_kfold = train_lr(X_train_kfold, y_train_kfold, C)\n",
    "        y_pred_kfold = predict_lr(X_val_kfold, lr_kfold)\n",
    "\n",
    "        rocauc = roc_auc_score(y_val_kfold, y_pred_kfold)\n",
    "        aucs.append(rocauc)\n",
    "    print('C=%6s, auc = %f ± %f' % (C, np.mean(aucs), np.std(aucs)))"
   ]
  },
  {
   "cell_type": "code",
   "execution_count": null,
   "id": "8b61b7cd",
   "metadata": {},
   "outputs": [],
   "source": []
  }
 ],
 "metadata": {
  "kernelspec": {
   "display_name": "Python 3 (ipykernel)",
   "language": "python",
   "name": "python3"
  },
  "language_info": {
   "codemirror_mode": {
    "name": "ipython",
    "version": 3
   },
   "file_extension": ".py",
   "mimetype": "text/x-python",
   "name": "python",
   "nbconvert_exporter": "python",
   "pygments_lexer": "ipython3",
   "version": "3.8.12"
  }
 },
 "nbformat": 4,
 "nbformat_minor": 5
}
