{
 "cells": [
  {
   "cell_type": "markdown",
   "id": "a999189b",
   "metadata": {},
   "source": [
    "# Decision Trees\n",
    "In this Jupyter Notebook a Decision Trees and Random Forrest Classifiers will be implemented. Data cleaning from the previous notebook will be used and then it is splitted into trainin-validation-test sets for implementing the different models. The following steps are developed in this work:\n",
    "\n",
    "1. Data preparation.\n",
    "2. Model Development - Decision Tree <br>\n",
    "    2.1 Decision Tree Training <br>\n",
    "    2.2 Decision Tree tuning <br>\n",
    "    2.3 Decision Tree -Final model <br>\n",
    "3. Model Development - Random Forrest <br>\n",
    "    3.1 Random Forrest tuning <br>\n",
    "    &ensp; 3.1.1 Tune n_estimators and max_depth <br>\n",
    "    &ensp; 3.1.2 Tune min_samples_leaf <br>\n",
    "    3.2 Train final model"
   ]
  },
  {
   "cell_type": "code",
   "execution_count": 4,
   "id": "15ecd1e8",
   "metadata": {},
   "outputs": [],
   "source": [
    "import numpy as np\n",
    "import pandas as pd\n",
    "import matplotlib.pyplot as plt\n",
    "import seaborn as sns\n",
    "\n",
    "from tqdm.auto import tqdm\n",
    "\n",
    "from sklearn.model_selection import train_test_split\n",
    "from sklearn.feature_extraction import DictVectorizer\n",
    "from sklearn.tree import DecisionTreeClassifier\n",
    "from sklearn.ensemble import RandomForestClassifier\n",
    "from sklearn.metrics import roc_auc_score\n",
    "#from sklearn.model_selection import KFold"
   ]
  },
  {
   "cell_type": "markdown",
   "id": "fcda2c35",
   "metadata": {},
   "source": [
    "## 1. Data preparation"
   ]
  },
  {
   "cell_type": "code",
   "execution_count": 5,
   "id": "db40bcb4",
   "metadata": {},
   "outputs": [],
   "source": [
    "df = pd.read_csv('../datasets/heart_disease/heart_2020_cleaned.csv')\n",
    "df.columns = df.columns.str.lower()\n",
    "\n",
    "numerical = list(df.dtypes[df.dtypes == 'float'].index.values)\n",
    "categorical = list(df.dtypes[df.dtypes == 'object'].index.values)\n",
    "categorical.remove('heartdisease')\n",
    "\n",
    "for c in categorical:\n",
    "    df[c] = df[c].str.lower()\n",
    "\n",
    "df['heartdisease'] = df['heartdisease'].str.lower()\n",
    "\n",
    "\n",
    "df_full_train, df_test = train_test_split(df, test_size=0.20, random_state=1)\n",
    "df_train, df_val = train_test_split(df_full_train, test_size=0.25, random_state=1)\n",
    "\n",
    "y_train = (df_train['heartdisease']=='yes').astype('int').values\n",
    "y_val = (df_val['heartdisease']=='yes').astype('int').values\n",
    "y_test = (df_test['heartdisease']=='yes').astype('int').values\n",
    "\n",
    "df_train = df_train.drop(columns='heartdisease')\n",
    "df_val = df_val.drop(columns='heartdisease')\n",
    "df_test = df_test.drop(columns='heartdisease')\n",
    "\n",
    "df_full_train = df_full_train.reset_index(drop=True)\n",
    "df_train = df_train.reset_index(drop=True)\n",
    "df_val = df_val.reset_index(drop=True)\n",
    "df_test = df_test.reset_index(drop=True)\n",
    "\n",
    "\n",
    "dv = DictVectorizer(sparse=False)\n",
    "\n",
    "X_train = dv.fit_transform(df_train.to_dict(orient='records'))\n",
    "X_val = dv.transform(df_val.to_dict(orient='records'))\n",
    "X_test = dv.transform(df_test.to_dict(orient='records'))"
   ]
  },
  {
   "cell_type": "markdown",
   "id": "88669661",
   "metadata": {},
   "source": [
    "## 2. Model Development - Decision Tree"
   ]
  },
  {
   "cell_type": "markdown",
   "id": "d687f57c",
   "metadata": {},
   "source": [
    "### 2.1 Decision Tree Training"
   ]
  },
  {
   "cell_type": "code",
   "execution_count": 7,
   "id": "e7dfa8de",
   "metadata": {},
   "outputs": [],
   "source": [
    "dt = DecisionTreeClassifier(max_depth=None, min_samples_leaf=1, random_state=1)"
   ]
  },
  {
   "cell_type": "code",
   "execution_count": 8,
   "id": "40417e26",
   "metadata": {},
   "outputs": [
    {
     "data": {
      "text/plain": [
       "DecisionTreeClassifier(random_state=1)"
      ]
     },
     "execution_count": 8,
     "metadata": {},
     "output_type": "execute_result"
    }
   ],
   "source": [
    "dt.fit(X_train, y_train)"
   ]
  },
  {
   "cell_type": "code",
   "execution_count": 9,
   "id": "469e5780",
   "metadata": {},
   "outputs": [],
   "source": [
    "y_pred = dt.predict_proba(X_val)[:,1]"
   ]
  },
  {
   "cell_type": "code",
   "execution_count": 10,
   "id": "06e8091a",
   "metadata": {},
   "outputs": [
    {
     "data": {
      "text/plain": [
       "0.5855235350482807"
      ]
     },
     "execution_count": 10,
     "metadata": {},
     "output_type": "execute_result"
    }
   ],
   "source": [
    "roc_auc_score(y_val,y_pred)"
   ]
  },
  {
   "cell_type": "markdown",
   "id": "3cdf6d5e",
   "metadata": {},
   "source": [
    "### 2.2 Decision Tree tuning"
   ]
  },
  {
   "cell_type": "code",
   "execution_count": 11,
   "id": "5956401e",
   "metadata": {},
   "outputs": [],
   "source": [
    "scores = []\n",
    "for d in range(1,20):\n",
    "    dt = DecisionTreeClassifier(max_depth=d, min_samples_leaf=1, random_state=1)\n",
    "    dt.fit(X_train, y_train)\n",
    "    y_pred = dt.predict_proba(X_val)[:,1]\n",
    "    score = roc_auc_score(y_val,y_pred)\n",
    "    scores.append((d,score))"
   ]
  },
  {
   "cell_type": "code",
   "execution_count": 12,
   "id": "05bd968f",
   "metadata": {},
   "outputs": [],
   "source": [
    "scores = np.array(scores)"
   ]
  },
  {
   "cell_type": "code",
   "execution_count": 13,
   "id": "bfbe853f",
   "metadata": {},
   "outputs": [
    {
     "data": {
      "image/png": "[encoded data removed]",
      "text/plain": [
       "<Figure size 432x288 with 1 Axes>"
      ]
     },
     "metadata": {
      "needs_background": "light"
     },
     "output_type": "display_data"
    }
   ],
   "source": [
    "plt.plot(scores[:,0], scores[:,1])\n",
    "plt.grid('on')\n",
    "plt.title('AUC vs. depth')\n",
    "plt.xlabel('depth')\n",
    "plt.ylabel('AUC')\n",
    "plt.show()"
   ]
  },
  {
   "cell_type": "code",
   "execution_count": 14,
   "id": "db05d53c",
   "metadata": {},
   "outputs": [
    {
     "data": {
      "text/plain": [
       "array([[ 1.        ,  0.56646293],\n",
       "       [ 2.        ,  0.65850378],\n",
       "       [ 3.        ,  0.70348737],\n",
       "       [ 4.        ,  0.73229338],\n",
       "       [ 5.        ,  0.75266842],\n",
       "       [ 6.        ,  0.77444035],\n",
       "       [ 7.        ,  0.79188957],\n",
       "       [ 8.        ,  0.80586548],\n",
       "       [ 9.        ,  0.8085978 ],\n",
       "       [10.        ,  0.80487686],\n",
       "       [11.        ,  0.79656085],\n",
       "       [12.        ,  0.78149719],\n",
       "       [13.        ,  0.76308659],\n",
       "       [14.        ,  0.73598345],\n",
       "       [15.        ,  0.71077933],\n",
       "       [16.        ,  0.68008782],\n",
       "       [17.        ,  0.646654  ],\n",
       "       [18.        ,  0.61503192],\n",
       "       [19.        ,  0.58705408]])"
      ]
     },
     "execution_count": 14,
     "metadata": {},
     "output_type": "execute_result"
    }
   ],
   "source": [
    "scores"
   ]
  },
  {
   "cell_type": "code",
   "execution_count": 15,
   "id": "fd169e5e",
   "metadata": {},
   "outputs": [],
   "source": [
    "best_depth = 9"
   ]
  },
  {
   "cell_type": "code",
   "execution_count": 16,
   "id": "e674c12f",
   "metadata": {},
   "outputs": [
    {
     "data": {
      "application/vnd.jupyter.widget-view+json": {
       "model_id": "e95eba5436694fb68e192a320a7f189b",
       "version_major": 2,
       "version_minor": 0
      },
      "text/plain": [
       "  0%|          | 0/19 [00:00<?, ?it/s]"
      ]
     },
     "metadata": {},
     "output_type": "display_data"
    }
   ],
   "source": [
    "scores = []\n",
    "for s in tqdm(range(1,20)):\n",
    "    dt = DecisionTreeClassifier(max_depth=9, min_samples_leaf=s, random_state=1)\n",
    "    dt.fit(X_train, y_train)\n",
    "    y_pred = dt.predict_proba(X_val)[:,1]\n",
    "    score = roc_auc_score(y_val,y_pred)\n",
    "    scores.append((s,score))"
   ]
  },
  {
   "cell_type": "code",
   "execution_count": 17,
   "id": "9c413339",
   "metadata": {},
   "outputs": [],
   "source": [
    "scores = np.array(scores)"
   ]
  },
  {
   "cell_type": "code",
   "execution_count": 18,
   "id": "057aef0e",
   "metadata": {},
   "outputs": [
    {
     "data": {
      "image/png": "[encoded data removed]",
      "text/plain": [
       "<Figure size 432x288 with 1 Axes>"
      ]
     },
     "metadata": {
      "needs_background": "light"
     },
     "output_type": "display_data"
    }
   ],
   "source": [
    "plt.plot(scores[:,0], scores[:,1])\n",
    "plt.grid('on')\n",
    "plt.title('AUC vs. min_samples')\n",
    "plt.xlabel('min_samples')\n",
    "plt.ylabel('AUC')\n",
    "plt.show()"
   ]
  },
  {
   "cell_type": "code",
   "execution_count": 19,
   "id": "b5dc9fd1",
   "metadata": {},
   "outputs": [
    {
     "data": {
      "text/plain": [
       "array([[ 1.        ,  0.8085978 ],\n",
       "       [ 2.        ,  0.80924847],\n",
       "       [ 3.        ,  0.80999085],\n",
       "       [ 4.        ,  0.810865  ],\n",
       "       [ 5.        ,  0.81105963],\n",
       "       [ 6.        ,  0.81179351],\n",
       "       [ 7.        ,  0.8122905 ],\n",
       "       [ 8.        ,  0.81296057],\n",
       "       [ 9.        ,  0.81336624],\n",
       "       [10.        ,  0.81339014],\n",
       "       [11.        ,  0.81416009],\n",
       "       [12.        ,  0.81430693],\n",
       "       [13.        ,  0.81453411],\n",
       "       [14.        ,  0.81464733],\n",
       "       [15.        ,  0.81491136],\n",
       "       [16.        ,  0.81540278],\n",
       "       [17.        ,  0.81504914],\n",
       "       [18.        ,  0.81454723],\n",
       "       [19.        ,  0.81441444]])"
      ]
     },
     "execution_count": 19,
     "metadata": {},
     "output_type": "execute_result"
    }
   ],
   "source": [
    "scores"
   ]
  },
  {
   "cell_type": "code",
   "execution_count": 20,
   "id": "56469ec7",
   "metadata": {},
   "outputs": [],
   "source": [
    "best_min_samples = 16"
   ]
  },
  {
   "cell_type": "markdown",
   "id": "f4df5f8f",
   "metadata": {},
   "source": [
    "### 2.3 Decision Tree -Final model"
   ]
  },
  {
   "cell_type": "code",
   "execution_count": 21,
   "id": "dc4bbc5f",
   "metadata": {},
   "outputs": [],
   "source": [
    "dt = DecisionTreeClassifier(max_depth=best_depth, min_samples_leaf=best_min_samples, random_state=1)"
   ]
  },
  {
   "cell_type": "code",
   "execution_count": 22,
   "id": "d63d33d5",
   "metadata": {},
   "outputs": [
    {
     "data": {
      "text/plain": [
       "DecisionTreeClassifier(max_depth=9, min_samples_leaf=16, random_state=1)"
      ]
     },
     "execution_count": 22,
     "metadata": {},
     "output_type": "execute_result"
    }
   ],
   "source": [
    "dt.fit(X_train, y_train)"
   ]
  },
  {
   "cell_type": "code",
   "execution_count": 23,
   "id": "854bac1c",
   "metadata": {},
   "outputs": [],
   "source": [
    "y_pred = dt.predict_proba(X_val)[:,1]"
   ]
  },
  {
   "cell_type": "code",
   "execution_count": 24,
   "id": "99485126",
   "metadata": {},
   "outputs": [
    {
     "data": {
      "text/plain": [
       "0.8154027839227462"
      ]
     },
     "execution_count": 24,
     "metadata": {},
     "output_type": "execute_result"
    }
   ],
   "source": [
    "roc_auc_score(y_val,y_pred)"
   ]
  },
  {
   "cell_type": "markdown",
   "id": "dc518a08",
   "metadata": {},
   "source": [
    "## 3. Model Development - Random Forrest"
   ]
  },
  {
   "cell_type": "code",
   "execution_count": 26,
   "id": "214ec748",
   "metadata": {},
   "outputs": [],
   "source": [
    "rf = RandomForestClassifier(n_estimators=100, max_depth=None, min_samples_leaf=1, random_state=1)"
   ]
  },
  {
   "cell_type": "code",
   "execution_count": 27,
   "id": "90b09007",
   "metadata": {},
   "outputs": [
    {
     "data": {
      "text/plain": [
       "RandomForestClassifier(random_state=1)"
      ]
     },
     "execution_count": 27,
     "metadata": {},
     "output_type": "execute_result"
    }
   ],
   "source": [
    "rf.fit(X_train, y_train)"
   ]
  },
  {
   "cell_type": "code",
   "execution_count": 28,
   "id": "d2943be5",
   "metadata": {},
   "outputs": [],
   "source": [
    "y_pred = rf.predict_proba(X_val)[:,1]"
   ]
  },
  {
   "cell_type": "code",
   "execution_count": 29,
   "id": "c93ef093",
   "metadata": {},
   "outputs": [
    {
     "data": {
      "text/plain": [
       "0.7850173456498931"
      ]
     },
     "execution_count": 29,
     "metadata": {},
     "output_type": "execute_result"
    }
   ],
   "source": [
    "roc_auc_score(y_val, y_pred)"
   ]
  },
  {
   "cell_type": "markdown",
   "id": "7b6db684",
   "metadata": {},
   "source": [
    "### 3.1 Random Forrest tuning"
   ]
  },
  {
   "cell_type": "markdown",
   "id": "a2c0f158",
   "metadata": {},
   "source": [
    "#### 3.1.1 Tune `n_estimators` and `max_depth`"
   ]
  },
  {
   "cell_type": "markdown",
   "id": "6aa6bdd0",
   "metadata": {},
   "source": [
    "First lets try to estimate a good value for the `n_estimators` parameter"
   ]
  },
  {
   "cell_type": "code",
   "execution_count": 30,
   "id": "bfd882aa",
   "metadata": {},
   "outputs": [
    {
     "data": {
      "application/vnd.jupyter.widget-view+json": {
       "model_id": "8c281da8a5b34e9da609d3f5d9092ae8",
       "version_major": 2,
       "version_minor": 0
      },
      "text/plain": [
       "  0%|          | 0/12 [00:00<?, ?it/s]"
      ]
     },
     "metadata": {},
     "output_type": "display_data"
    }
   ],
   "source": [
    "scores = []\n",
    "for n in tqdm([1, 2, 4, 8, 16, 32, 50, 60, 80, 100, 120, 150]):\n",
    "    score = []\n",
    "    \n",
    "    rf = RandomForestClassifier(n_estimators=n, max_depth=None, min_samples_leaf=1, random_state=1)\n",
    "    rf.fit(X_train, y_train)\n",
    "    y_pred = rf.predict_proba(X_val)[:,1]\n",
    "    score = roc_auc_score(y_val, y_pred)\n",
    "    scores.append((n,score))"
   ]
  },
  {
   "cell_type": "code",
   "execution_count": 31,
   "id": "a3f7a962",
   "metadata": {},
   "outputs": [
    {
     "data": {
      "text/plain": [
       "[(1, 0.5801168050156054),\n",
       " (2, 0.6236344790684925),\n",
       " (4, 0.6802739248594968),\n",
       " (8, 0.7252199033179745),\n",
       " (16, 0.7521956576321963),\n",
       " (32, 0.7699464183213987),\n",
       " (50, 0.7771734827258944),\n",
       " (60, 0.7802190118064806),\n",
       " (80, 0.78266642837882),\n",
       " (100, 0.7850173456498931),\n",
       " (120, 0.7862737256913076),\n",
       " (150, 0.7873843912280694)]"
      ]
     },
     "execution_count": 31,
     "metadata": {},
     "output_type": "execute_result"
    }
   ],
   "source": [
    "scores"
   ]
  },
  {
   "cell_type": "markdown",
   "id": "287cdb7a",
   "metadata": {},
   "source": [
    "Since the AUC value still goes up, we can inspect a little more..."
   ]
  },
  {
   "cell_type": "code",
   "execution_count": 32,
   "id": "09b70d36",
   "metadata": {},
   "outputs": [
    {
     "data": {
      "application/vnd.jupyter.widget-view+json": {
       "model_id": "6ad7ee60dc0f4eecabbd516ed4f7b32f",
       "version_major": 2,
       "version_minor": 0
      },
      "text/plain": [
       "  0%|          | 0/5 [00:00<?, ?it/s]"
      ]
     },
     "metadata": {},
     "output_type": "display_data"
    }
   ],
   "source": [
    "scores = []\n",
    "for n in tqdm([150, 160, 180, 200, 500]):\n",
    "    score = []\n",
    "    \n",
    "    rf = RandomForestClassifier(n_estimators=n, max_depth=None, min_samples_leaf=1, random_state=1)\n",
    "    rf.fit(X_train, y_train)\n",
    "    y_pred = rf.predict_proba(X_val)[:,1]\n",
    "    score = roc_auc_score(y_val, y_pred)\n",
    "    scores.append((n,score))"
   ]
  },
  {
   "cell_type": "code",
   "execution_count": 34,
   "id": "3b09f3da",
   "metadata": {},
   "outputs": [
    {
     "data": {
      "text/plain": [
       "[(150, 0.7873843912280694),\n",
       " (160, 0.7881450959787114),\n",
       " (180, 0.7888084680363384),\n",
       " (200, 0.7891211734125966),\n",
       " (500, 0.7919946786195443)]"
      ]
     },
     "execution_count": 34,
     "metadata": {},
     "output_type": "execute_result"
    }
   ],
   "source": [
    "scores"
   ]
  },
  {
   "cell_type": "markdown",
   "id": "92c434c2",
   "metadata": {},
   "source": [
    "With the previous calculation we have an estimate of good values to use for the `n_estimators`. Now both `max_depth` and `n_estimators` can be obtained."
   ]
  },
  {
   "cell_type": "code",
   "execution_count": 35,
   "id": "d2d8c783",
   "metadata": {},
   "outputs": [
    {
     "data": {
      "application/vnd.jupyter.widget-view+json": {
       "model_id": "5c72efeb39af4a84bd66018270e94aa0",
       "version_major": 2,
       "version_minor": 0
      },
      "text/plain": [
       "  0%|          | 0/4 [00:00<?, ?it/s]"
      ]
     },
     "metadata": {},
     "output_type": "display_data"
    },
    {
     "data": {
      "application/vnd.jupyter.widget-view+json": {
       "model_id": "9079e1b8e15041ae8086a8ae6ee1bab8",
       "version_major": 2,
       "version_minor": 0
      },
      "text/plain": [
       "  0%|          | 0/4 [00:00<?, ?it/s]"
      ]
     },
     "metadata": {},
     "output_type": "display_data"
    },
    {
     "data": {
      "application/vnd.jupyter.widget-view+json": {
       "model_id": "d94353f9c9d74d23a3bd5ed16104aeec",
       "version_major": 2,
       "version_minor": 0
      },
      "text/plain": [
       "  0%|          | 0/4 [00:00<?, ?it/s]"
      ]
     },
     "metadata": {},
     "output_type": "display_data"
    },
    {
     "data": {
      "application/vnd.jupyter.widget-view+json": {
       "model_id": "da367b2f6e0249f98389c4b51e1433b8",
       "version_major": 2,
       "version_minor": 0
      },
      "text/plain": [
       "  0%|          | 0/4 [00:00<?, ?it/s]"
      ]
     },
     "metadata": {},
     "output_type": "display_data"
    },
    {
     "data": {
      "application/vnd.jupyter.widget-view+json": {
       "model_id": "9b21233fea984eababd587fd047f866c",
       "version_major": 2,
       "version_minor": 0
      },
      "text/plain": [
       "  0%|          | 0/4 [00:00<?, ?it/s]"
      ]
     },
     "metadata": {},
     "output_type": "display_data"
    },
    {
     "data": {
      "application/vnd.jupyter.widget-view+json": {
       "model_id": "18f333e7c899455c96c4e91926d09ec9",
       "version_major": 2,
       "version_minor": 0
      },
      "text/plain": [
       "  0%|          | 0/4 [00:00<?, ?it/s]"
      ]
     },
     "metadata": {},
     "output_type": "display_data"
    },
    {
     "data": {
      "application/vnd.jupyter.widget-view+json": {
       "model_id": "09e0174159a145018a3a94c9ff917321",
       "version_major": 2,
       "version_minor": 0
      },
      "text/plain": [
       "  0%|          | 0/4 [00:00<?, ?it/s]"
      ]
     },
     "metadata": {},
     "output_type": "display_data"
    },
    {
     "data": {
      "application/vnd.jupyter.widget-view+json": {
       "model_id": "a9391fe7b75d45969a3f387ac0854017",
       "version_major": 2,
       "version_minor": 0
      },
      "text/plain": [
       "  0%|          | 0/4 [00:00<?, ?it/s]"
      ]
     },
     "metadata": {},
     "output_type": "display_data"
    },
    {
     "data": {
      "application/vnd.jupyter.widget-view+json": {
       "model_id": "04432c55f4c74154aeb81f52b6c24658",
       "version_major": 2,
       "version_minor": 0
      },
      "text/plain": [
       "  0%|          | 0/4 [00:00<?, ?it/s]"
      ]
     },
     "metadata": {},
     "output_type": "display_data"
    },
    {
     "data": {
      "application/vnd.jupyter.widget-view+json": {
       "model_id": "dfc6bae9c62841dca10681c9dd6f2023",
       "version_major": 2,
       "version_minor": 0
      },
      "text/plain": [
       "  0%|          | 0/4 [00:00<?, ?it/s]"
      ]
     },
     "metadata": {},
     "output_type": "display_data"
    },
    {
     "data": {
      "application/vnd.jupyter.widget-view+json": {
       "model_id": "db69b43a40a944dabdcdbc9e54c5635c",
       "version_major": 2,
       "version_minor": 0
      },
      "text/plain": [
       "  0%|          | 0/4 [00:00<?, ?it/s]"
      ]
     },
     "metadata": {},
     "output_type": "display_data"
    }
   ],
   "source": [
    "scores_dict = {}\n",
    "\n",
    "for d in [1, 2, 3, 5, 10, 15, 20, 25, 50, 100, None]:\n",
    "    scores = []\n",
    "    for n in tqdm([100, 200, 300, 500]):\n",
    "        score = []\n",
    "\n",
    "        rf = RandomForestClassifier(n_estimators=n, max_depth=d, min_samples_leaf=1, random_state=1)\n",
    "        rf.fit(X_train, y_train)\n",
    "        y_pred = rf.predict_proba(X_val)[:,1]\n",
    "        score = roc_auc_score(y_val, y_pred)\n",
    "        scores.append((n,score))\n",
    "    scores_dict[d] = scores"
   ]
  },
  {
   "cell_type": "code",
   "execution_count": 36,
   "id": "d08e361d",
   "metadata": {},
   "outputs": [
    {
     "data": {
      "text/plain": [
       "dict_keys([1, 2, 3, 5, 10, 15, 20, 25, 50, 100, None])"
      ]
     },
     "execution_count": 36,
     "metadata": {},
     "output_type": "execute_result"
    }
   ],
   "source": [
    "scores_dict.keys()"
   ]
  },
  {
   "cell_type": "code",
   "execution_count": 45,
   "id": "4a3d0fbe",
   "metadata": {},
   "outputs": [
    {
     "data": {
      "image/png": "[encoded data removed]",
      "text/plain": [
       "<Figure size 720x432 with 1 Axes>"
      ]
     },
     "metadata": {
      "needs_background": "light"
     },
     "output_type": "display_data"
    }
   ],
   "source": [
    "plt.rcParams['figure.figsize'] = [10, 6]\n",
    "for key in [10, 15, 20, 25, None]:\n",
    "    scores_array = np.array(scores_dict[key])\n",
    "    plt.plot(scores_array[:,0], scores_array[:,1], label='depth = '+str(key))\n",
    "    plt.grid('on')\n",
    "    plt.title('AUC vs. n_estimators')\n",
    "    plt.xlabel('n_estimators')\n",
    "    plt.ylabel('AUC')\n",
    "    plt.legend()\n",
    "plt.show()"
   ]
  },
  {
   "cell_type": "markdown",
   "id": "daa0f586",
   "metadata": {},
   "source": [
    "#### 3.1.2 Tune `min_samples_leaf`"
   ]
  },
  {
   "cell_type": "code",
   "execution_count": 46,
   "id": "273d4cf2",
   "metadata": {},
   "outputs": [],
   "source": [
    "best_depth = 15\n",
    "best_estimator = 300"
   ]
  },
  {
   "cell_type": "code",
   "execution_count": 47,
   "id": "fb411ba0",
   "metadata": {},
   "outputs": [
    {
     "data": {
      "application/vnd.jupyter.widget-view+json": {
       "model_id": "4ccb80d543f34af5b350673460a20d3c",
       "version_major": 2,
       "version_minor": 0
      },
      "text/plain": [
       "  0%|          | 0/10 [00:00<?, ?it/s]"
      ]
     },
     "metadata": {},
     "output_type": "display_data"
    }
   ],
   "source": [
    "scores = []\n",
    "for s in tqdm([1, 2, 3, 4, 5, 10, 20, 50, 75, 100]):\n",
    "    score = []\n",
    "    \n",
    "    rf = RandomForestClassifier(n_estimators=best_estimator, max_depth=best_depth,\n",
    "                                min_samples_leaf=s, random_state=1)\n",
    "    rf.fit(X_train, y_train)\n",
    "    y_pred = rf.predict_proba(X_val)[:,1]\n",
    "    score = roc_auc_score(y_val, y_pred)\n",
    "    scores.append((s,score))"
   ]
  },
  {
   "cell_type": "code",
   "execution_count": 48,
   "id": "20727bb6",
   "metadata": {},
   "outputs": [
    {
     "data": {
      "image/png": "[encoded data removed]",
      "text/plain": [
       "<Figure size 720x432 with 1 Axes>"
      ]
     },
     "metadata": {
      "needs_background": "light"
     },
     "output_type": "display_data"
    }
   ],
   "source": [
    "scores_array = np.array(scores)\n",
    "plt.plot(scores_array[:,0], scores_array[:,1], label=str(key))\n",
    "plt.grid('on')\n",
    "plt.title('AUC vs. min_samples_leaf')\n",
    "plt.xlabel('min_samples_leaf')\n",
    "plt.ylabel('AUC')\n",
    "plt.show()"
   ]
  },
  {
   "cell_type": "code",
   "execution_count": 49,
   "id": "d947ec38",
   "metadata": {},
   "outputs": [
    {
     "data": {
      "image/png": "[encoded data removed]",
      "text/plain": [
       "<Figure size 720x432 with 1 Axes>"
      ]
     },
     "metadata": {
      "needs_background": "light"
     },
     "output_type": "display_data"
    }
   ],
   "source": [
    "scores_array = np.array(scores)\n",
    "plt.plot(scores_array[:,0], scores_array[:,1], label=str(key))\n",
    "plt.grid('on')\n",
    "plt.title('AUC vs. min_samples_leaf')\n",
    "plt.xlabel('min_samples_leaf')\n",
    "plt.ylabel('AUC')\n",
    "plt.xlim(0,10)\n",
    "plt.legend()\n",
    "plt.show()"
   ]
  },
  {
   "cell_type": "code",
   "execution_count": 50,
   "id": "12d443ec",
   "metadata": {},
   "outputs": [],
   "source": [
    "best_min_samples_leaf = 4"
   ]
  },
  {
   "cell_type": "markdown",
   "id": "e1175350",
   "metadata": {},
   "source": [
    "### 3.2 Train final model"
   ]
  },
  {
   "cell_type": "code",
   "execution_count": 51,
   "id": "a9892641",
   "metadata": {},
   "outputs": [],
   "source": [
    "best_estimator = 300\n",
    "best_depth = 15\n",
    "best_min_samples_leaf = 4"
   ]
  },
  {
   "cell_type": "code",
   "execution_count": 52,
   "id": "70fd3cbc",
   "metadata": {},
   "outputs": [],
   "source": [
    "rf = RandomForestClassifier(n_estimators=best_estimator,\n",
    "                            max_depth=best_depth, \n",
    "                            min_samples_leaf=best_min_samples_leaf, \n",
    "                            random_state=1)"
   ]
  },
  {
   "cell_type": "code",
   "execution_count": 53,
   "id": "e34071ad",
   "metadata": {},
   "outputs": [
    {
     "data": {
      "text/plain": [
       "RandomForestClassifier(max_depth=15, min_samples_leaf=4, n_estimators=300,\n",
       "                       random_state=1)"
      ]
     },
     "execution_count": 53,
     "metadata": {},
     "output_type": "execute_result"
    }
   ],
   "source": [
    "rf.fit(X_train, y_train)"
   ]
  },
  {
   "cell_type": "code",
   "execution_count": 54,
   "id": "6fc98326",
   "metadata": {},
   "outputs": [],
   "source": [
    "y_pred = rf.predict_proba(X_val)[:,1]"
   ]
  },
  {
   "cell_type": "code",
   "execution_count": 55,
   "id": "26e6f25d",
   "metadata": {},
   "outputs": [
    {
     "data": {
      "text/plain": [
       "0.8385978316925435"
      ]
     },
     "execution_count": 55,
     "metadata": {},
     "output_type": "execute_result"
    }
   ],
   "source": [
    "roc_auc_score(y_val,y_pred)"
   ]
  }
 ],
 "metadata": {
  "kernelspec": {
   "display_name": "Python 3 (ipykernel)",
   "language": "python",
   "name": "python3"
  },
  "language_info": {
   "codemirror_mode": {
    "name": "ipython",
    "version": 3
   },
   "file_extension": ".py",
   "mimetype": "text/x-python",
   "name": "python",
   "nbconvert_exporter": "python",
   "pygments_lexer": "ipython3",
   "version": "3.8.12"
  }
 },
 "nbformat": 4,
 "nbformat_minor": 5
}
